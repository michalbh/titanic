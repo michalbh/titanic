{
 "cells": [
  {
   "cell_type": "code",
   "execution_count": 1,
   "id": "de515553",
   "metadata": {
    "_cell_guid": "b1076dfc-b9ad-4769-8c92-a6c4dae69d19",
    "_uuid": "8f2839f25d086af736a60e9eeb907d3b93b6e0e5",
    "execution": {
     "iopub.execute_input": "2024-02-13T18:34:22.301594Z",
     "iopub.status.busy": "2024-02-13T18:34:22.301007Z",
     "iopub.status.idle": "2024-02-13T18:34:23.380250Z",
     "shell.execute_reply": "2024-02-13T18:34:23.379075Z"
    },
    "papermill": {
     "duration": 1.11109,
     "end_time": "2024-02-13T18:34:23.383682",
     "exception": false,
     "start_time": "2024-02-13T18:34:22.272592",
     "status": "completed"
    },
    "tags": []
   },
   "outputs": [
    {
     "name": "stdout",
     "output_type": "stream",
     "text": [
      "/kaggle/input/titanic/train.csv\n",
      "/kaggle/input/titanic/test.csv\n",
      "/kaggle/input/titanic/gender_submission.csv\n"
     ]
    }
   ],
   "source": [
    "# This Python 3 environment comes with many helpful analytics libraries installed\n",
    "# It is defined by the kaggle/python Docker image: https://github.com/kaggle/docker-python\n",
    "# For example, here's several helpful packages to load\n",
    "\n",
    "import numpy as np # linear algebra\n",
    "import pandas as pd # data processing, CSV file I/O (e.g. pd.read_csv)\n",
    "\n",
    "# Input data files are available in the read-only \"../input/\" directory\n",
    "# For example, running this (by clicking run or pressing Shift+Enter) will list all files under the input directory\n",
    "\n",
    "import os\n",
    "for dirname, _, filenames in os.walk('/kaggle/input'):\n",
    "    for filename in filenames:\n",
    "        print(os.path.join(dirname, filename))\n",
    "\n",
    "# You can write up to 20GB to the current directory (/kaggle/working/) that gets preserved as output when you create a version using \"Save & Run All\" \n",
    "# You can also write temporary files to /kaggle/temp/, but they won't be saved outside of the current session"
   ]
  },
  {
   "cell_type": "markdown",
   "id": "4e700dd3",
   "metadata": {
    "papermill": {
     "duration": 0.025601,
     "end_time": "2024-02-13T18:34:23.435604",
     "exception": false,
     "start_time": "2024-02-13T18:34:23.410003",
     "status": "completed"
    },
    "tags": []
   },
   "source": [
    "Imports for plotting and visualizations"
   ]
  },
  {
   "cell_type": "code",
   "execution_count": 2,
   "id": "4c5c8819",
   "metadata": {
    "execution": {
     "iopub.execute_input": "2024-02-13T18:34:23.492886Z",
     "iopub.status.busy": "2024-02-13T18:34:23.491905Z",
     "iopub.status.idle": "2024-02-13T18:34:25.154829Z",
     "shell.execute_reply": "2024-02-13T18:34:25.153378Z"
    },
    "papermill": {
     "duration": 1.694468,
     "end_time": "2024-02-13T18:34:25.158328",
     "exception": false,
     "start_time": "2024-02-13T18:34:23.463860",
     "status": "completed"
    },
    "tags": []
   },
   "outputs": [],
   "source": [
    "import matplotlib.pyplot as plt\n",
    "import seaborn as sns\n",
    "\n",
    "\n",
    "import warnings\n",
    "warnings.filterwarnings('ignore')\n",
    "\n",
    "# for regular expressions\n",
    "import re"
   ]
  },
  {
   "cell_type": "markdown",
   "id": "2fa5255a",
   "metadata": {
    "papermill": {
     "duration": 0.025707,
     "end_time": "2024-02-13T18:34:25.211315",
     "exception": false,
     "start_time": "2024-02-13T18:34:25.185608",
     "status": "completed"
    },
    "tags": []
   },
   "source": [
    "# Data Loading"
   ]
  },
  {
   "cell_type": "markdown",
   "id": "d592948f",
   "metadata": {
    "papermill": {
     "duration": 0.02599,
     "end_time": "2024-02-13T18:34:25.263018",
     "exception": false,
     "start_time": "2024-02-13T18:34:25.237028",
     "status": "completed"
    },
    "tags": []
   },
   "source": [
    "Load training data"
   ]
  },
  {
   "cell_type": "code",
   "execution_count": 3,
   "id": "0e0cbf67",
   "metadata": {
    "execution": {
     "iopub.execute_input": "2024-02-13T18:34:25.317391Z",
     "iopub.status.busy": "2024-02-13T18:34:25.316861Z",
     "iopub.status.idle": "2024-02-13T18:34:25.370223Z",
     "shell.execute_reply": "2024-02-13T18:34:25.368942Z"
    },
    "papermill": {
     "duration": 0.083848,
     "end_time": "2024-02-13T18:34:25.372855",
     "exception": false,
     "start_time": "2024-02-13T18:34:25.289007",
     "status": "completed"
    },
    "tags": []
   },
   "outputs": [
    {
     "data": {
      "text/html": [
       "<div>\n",
       "<style scoped>\n",
       "    .dataframe tbody tr th:only-of-type {\n",
       "        vertical-align: middle;\n",
       "    }\n",
       "\n",
       "    .dataframe tbody tr th {\n",
       "        vertical-align: top;\n",
       "    }\n",
       "\n",
       "    .dataframe thead th {\n",
       "        text-align: right;\n",
       "    }\n",
       "</style>\n",
       "<table border=\"1\" class=\"dataframe\">\n",
       "  <thead>\n",
       "    <tr style=\"text-align: right;\">\n",
       "      <th></th>\n",
       "      <th>PassengerId</th>\n",
       "      <th>Survived</th>\n",
       "      <th>Pclass</th>\n",
       "      <th>Name</th>\n",
       "      <th>Sex</th>\n",
       "      <th>Age</th>\n",
       "      <th>SibSp</th>\n",
       "      <th>Parch</th>\n",
       "      <th>Ticket</th>\n",
       "      <th>Fare</th>\n",
       "      <th>Cabin</th>\n",
       "      <th>Embarked</th>\n",
       "    </tr>\n",
       "  </thead>\n",
       "  <tbody>\n",
       "    <tr>\n",
       "      <th>0</th>\n",
       "      <td>1</td>\n",
       "      <td>0</td>\n",
       "      <td>3</td>\n",
       "      <td>Braund, Mr. Owen Harris</td>\n",
       "      <td>male</td>\n",
       "      <td>22.0</td>\n",
       "      <td>1</td>\n",
       "      <td>0</td>\n",
       "      <td>A/5 21171</td>\n",
       "      <td>7.25</td>\n",
       "      <td>NaN</td>\n",
       "      <td>S</td>\n",
       "    </tr>\n",
       "  </tbody>\n",
       "</table>\n",
       "</div>"
      ],
      "text/plain": [
       "   PassengerId  Survived  Pclass                     Name   Sex   Age  SibSp  \\\n",
       "0            1         0       3  Braund, Mr. Owen Harris  male  22.0      1   \n",
       "\n",
       "   Parch     Ticket  Fare Cabin Embarked  \n",
       "0      0  A/5 21171  7.25   NaN        S  "
      ]
     },
     "execution_count": 3,
     "metadata": {},
     "output_type": "execute_result"
    }
   ],
   "source": [
    "train_df = pd.read_csv(\"/kaggle/input/titanic/train.csv\")\n",
    "train_df.head(1)"
   ]
  },
  {
   "cell_type": "markdown",
   "id": "1a8eab29",
   "metadata": {
    "papermill": {
     "duration": 0.025538,
     "end_time": "2024-02-13T18:34:25.424330",
     "exception": false,
     "start_time": "2024-02-13T18:34:25.398792",
     "status": "completed"
    },
    "tags": []
   },
   "source": [
    "Load test data"
   ]
  },
  {
   "cell_type": "code",
   "execution_count": 4,
   "id": "e67e378d",
   "metadata": {
    "execution": {
     "iopub.execute_input": "2024-02-13T18:34:25.575418Z",
     "iopub.status.busy": "2024-02-13T18:34:25.574962Z",
     "iopub.status.idle": "2024-02-13T18:34:25.598832Z",
     "shell.execute_reply": "2024-02-13T18:34:25.597716Z"
    },
    "papermill": {
     "duration": 0.150736,
     "end_time": "2024-02-13T18:34:25.601236",
     "exception": false,
     "start_time": "2024-02-13T18:34:25.450500",
     "status": "completed"
    },
    "tags": []
   },
   "outputs": [
    {
     "data": {
      "text/html": [
       "<div>\n",
       "<style scoped>\n",
       "    .dataframe tbody tr th:only-of-type {\n",
       "        vertical-align: middle;\n",
       "    }\n",
       "\n",
       "    .dataframe tbody tr th {\n",
       "        vertical-align: top;\n",
       "    }\n",
       "\n",
       "    .dataframe thead th {\n",
       "        text-align: right;\n",
       "    }\n",
       "</style>\n",
       "<table border=\"1\" class=\"dataframe\">\n",
       "  <thead>\n",
       "    <tr style=\"text-align: right;\">\n",
       "      <th></th>\n",
       "      <th>PassengerId</th>\n",
       "      <th>Pclass</th>\n",
       "      <th>Name</th>\n",
       "      <th>Sex</th>\n",
       "      <th>Age</th>\n",
       "      <th>SibSp</th>\n",
       "      <th>Parch</th>\n",
       "      <th>Ticket</th>\n",
       "      <th>Fare</th>\n",
       "      <th>Cabin</th>\n",
       "      <th>Embarked</th>\n",
       "    </tr>\n",
       "  </thead>\n",
       "  <tbody>\n",
       "    <tr>\n",
       "      <th>0</th>\n",
       "      <td>892</td>\n",
       "      <td>3</td>\n",
       "      <td>Kelly, Mr. James</td>\n",
       "      <td>male</td>\n",
       "      <td>34.5</td>\n",
       "      <td>0</td>\n",
       "      <td>0</td>\n",
       "      <td>330911</td>\n",
       "      <td>7.8292</td>\n",
       "      <td>NaN</td>\n",
       "      <td>Q</td>\n",
       "    </tr>\n",
       "  </tbody>\n",
       "</table>\n",
       "</div>"
      ],
      "text/plain": [
       "   PassengerId  Pclass              Name   Sex   Age  SibSp  Parch  Ticket  \\\n",
       "0          892       3  Kelly, Mr. James  male  34.5      0      0  330911   \n",
       "\n",
       "     Fare Cabin Embarked  \n",
       "0  7.8292   NaN        Q  "
      ]
     },
     "execution_count": 4,
     "metadata": {},
     "output_type": "execute_result"
    }
   ],
   "source": [
    "test_df = pd.read_csv(\"/kaggle/input/titanic/test.csv\")\n",
    "test_df.head(1)"
   ]
  },
  {
   "cell_type": "markdown",
   "id": "1d6b345d",
   "metadata": {
    "papermill": {
     "duration": 0.025962,
     "end_time": "2024-02-13T18:34:25.653784",
     "exception": false,
     "start_time": "2024-02-13T18:34:25.627822",
     "status": "completed"
    },
    "tags": []
   },
   "source": [
    "Check the rate of women that survived out of all survivors. "
   ]
  },
  {
   "cell_type": "code",
   "execution_count": 5,
   "id": "981f873f",
   "metadata": {
    "execution": {
     "iopub.execute_input": "2024-02-13T18:34:25.708938Z",
     "iopub.status.busy": "2024-02-13T18:34:25.708494Z",
     "iopub.status.idle": "2024-02-13T18:34:25.720696Z",
     "shell.execute_reply": "2024-02-13T18:34:25.719048Z"
    },
    "papermill": {
     "duration": 0.04283,
     "end_time": "2024-02-13T18:34:25.723139",
     "exception": false,
     "start_time": "2024-02-13T18:34:25.680309",
     "status": "completed"
    },
    "tags": []
   },
   "outputs": [
    {
     "name": "stdout",
     "output_type": "stream",
     "text": [
      "% of women who survived: 0.7420382165605095\n"
     ]
    }
   ],
   "source": [
    "women = train_df.loc[train_df.Sex == 'female'][\"Survived\"]\n",
    "rate_women = sum(women)/len(women)\n",
    "\n",
    "print(\"% of women who survived:\", rate_women)"
   ]
  },
  {
   "cell_type": "markdown",
   "id": "96e83de4",
   "metadata": {
    "papermill": {
     "duration": 0.025884,
     "end_time": "2024-02-13T18:34:25.775530",
     "exception": false,
     "start_time": "2024-02-13T18:34:25.749646",
     "status": "completed"
    },
    "tags": []
   },
   "source": [
    "Rate of men who survived."
   ]
  },
  {
   "cell_type": "code",
   "execution_count": 6,
   "id": "a467adf3",
   "metadata": {
    "execution": {
     "iopub.execute_input": "2024-02-13T18:34:25.832323Z",
     "iopub.status.busy": "2024-02-13T18:34:25.831862Z",
     "iopub.status.idle": "2024-02-13T18:34:25.840334Z",
     "shell.execute_reply": "2024-02-13T18:34:25.839015Z"
    },
    "papermill": {
     "duration": 0.040703,
     "end_time": "2024-02-13T18:34:25.842755",
     "exception": false,
     "start_time": "2024-02-13T18:34:25.802052",
     "status": "completed"
    },
    "tags": []
   },
   "outputs": [
    {
     "name": "stdout",
     "output_type": "stream",
     "text": [
      "% of men who survived: 0.18890814558058924\n"
     ]
    }
   ],
   "source": [
    "men = train_df.loc[train_df.Sex == 'male'][\"Survived\"]\n",
    "rate_men = sum(men)/len(men)\n",
    "\n",
    "print(\"% of men who survived:\", rate_men)"
   ]
  },
  {
   "cell_type": "markdown",
   "id": "8fa2a0f2",
   "metadata": {
    "papermill": {
     "duration": 0.026262,
     "end_time": "2024-02-13T18:34:25.895853",
     "exception": false,
     "start_time": "2024-02-13T18:34:25.869591",
     "status": "completed"
    },
    "tags": []
   },
   "source": [
    "Preliminary data analysis, to see what pre-processing might be required. "
   ]
  },
  {
   "cell_type": "code",
   "execution_count": 7,
   "id": "f2771777",
   "metadata": {
    "execution": {
     "iopub.execute_input": "2024-02-13T18:34:25.952256Z",
     "iopub.status.busy": "2024-02-13T18:34:25.951767Z",
     "iopub.status.idle": "2024-02-13T18:34:25.959958Z",
     "shell.execute_reply": "2024-02-13T18:34:25.958689Z"
    },
    "papermill": {
     "duration": 0.039818,
     "end_time": "2024-02-13T18:34:25.962478",
     "exception": false,
     "start_time": "2024-02-13T18:34:25.922660",
     "status": "completed"
    },
    "tags": []
   },
   "outputs": [],
   "source": [
    "# check the balance of the data\n",
    "survived = train_df.loc[train_df.Survived == 1]\n",
    "rate_survived = len(survived)/len(train_df)\n",
    "\n",
    "#print(\"% of people who survived:\", rate_survived)\n",
    "\n",
    "#check that we have only 1 and 0 in the survived column:\n",
    "#print(train_df[\"Survived\"].unique())\n",
    "\n",
    "#check other features:\n",
    "#print(\"Pclass\", train_df[\"Pclass\"].unique())\n",
    "# TODO: 1 hot code encoding\n",
    "#print(\"Sex\", train_df[\"Sex\"].unique())\n",
    "# TODO: we have nan age values \"nan\" to be replaced with zero\n",
    "# TODO: we have estimated values we might want to drop and let XGBoost estimate?\n",
    "#print(\"Age\", train_df[\"Age\"].unique())\n",
    "\n",
    "#print(\"SibSp\", train_df[\"SibSp\"].unique())\n",
    "#print(\"Parch\", train_df[\"Parch\"].unique())\n",
    "# TODO: need to convert ticket to numeric\n",
    "#print(\"Ticket\", train_df[\"Ticket\"].unique()) \n",
    "#print(\"Fare\", train_df[\"Fare\"].unique())\n",
    "# verify Fare is numeric:\n",
    "#print(\"Fare dtype:\", train_df[\"Fare\"].dtype)\n",
    "# TODO: we have nan values to be modified to 0, and then 1 hot encode\n",
    "#print(\"Cabin\", train_df[\"Cabin\"].unique())\n",
    "# TODO: we have nan values to be modified to 0 and use 1 hot encoding\n",
    "#print(\"Embarked\", train_df[\"Embarked\"].unique())\n",
    "\n",
    "#train_df.dtypes"
   ]
  },
  {
   "cell_type": "markdown",
   "id": "0edfefff",
   "metadata": {
    "papermill": {
     "duration": 0.027087,
     "end_time": "2024-02-13T18:34:26.018095",
     "exception": false,
     "start_time": "2024-02-13T18:34:25.991008",
     "status": "completed"
    },
    "tags": []
   },
   "source": [
    "# Data Pre-processing\n",
    "Methodology was as follows:\n",
    "1) Understand feature correlation to surviving rate/other features\n",
    "\n",
    "2) Group importand features to distinct groups that will assist the model with generalization\n",
    "\n",
    "3) Run XGboost, plot the important features graph and repeat the process"
   ]
  },
  {
   "cell_type": "markdown",
   "id": "0e9e4027",
   "metadata": {
    "papermill": {
     "duration": 0.02988,
     "end_time": "2024-02-13T18:34:26.076944",
     "exception": false,
     "start_time": "2024-02-13T18:34:26.047064",
     "status": "completed"
    },
    "tags": []
   },
   "source": [
    "Age feature pre-processing"
   ]
  },
  {
   "cell_type": "code",
   "execution_count": 8,
   "id": "8e2c9cc5",
   "metadata": {
    "execution": {
     "iopub.execute_input": "2024-02-13T18:34:26.133769Z",
     "iopub.status.busy": "2024-02-13T18:34:26.132952Z",
     "iopub.status.idle": "2024-02-13T18:34:26.146796Z",
     "shell.execute_reply": "2024-02-13T18:34:26.145667Z"
    },
    "papermill": {
     "duration": 0.045062,
     "end_time": "2024-02-13T18:34:26.149675",
     "exception": false,
     "start_time": "2024-02-13T18:34:26.104613",
     "status": "completed"
    },
    "tags": []
   },
   "outputs": [],
   "source": [
    "# replace the nan age with a 0\n",
    "train_df.loc[pd.isna(train_df['Age']), 'Age'] = 0\n",
    "test_df.loc[pd.isna(test_df['Age']), 'Age'] = 0\n",
    "\n",
    "# add a bool feature for predicted age:\n",
    "train_df['Predicted_age'] = train_df['Age'].apply(lambda x : (x*10%10 == 5) or x ==0 )\n",
    "test_df['Predicted_age'] = test_df['Age'].apply(lambda x : (x*10%10 == 5) or x ==0 )"
   ]
  },
  {
   "cell_type": "code",
   "execution_count": 9,
   "id": "5e17b1a0",
   "metadata": {
    "execution": {
     "iopub.execute_input": "2024-02-13T18:34:26.206929Z",
     "iopub.status.busy": "2024-02-13T18:34:26.206476Z",
     "iopub.status.idle": "2024-02-13T18:34:26.380456Z",
     "shell.execute_reply": "2024-02-13T18:34:26.378990Z"
    },
    "papermill": {
     "duration": 0.206316,
     "end_time": "2024-02-13T18:34:26.384077",
     "exception": false,
     "start_time": "2024-02-13T18:34:26.177761",
     "status": "completed"
    },
    "tags": []
   },
   "outputs": [],
   "source": [
    "\n",
    "# Define regex pattern for extracting letters from strings\n",
    "class_regex_pattern = r'^([A-Za-z]+)?'\n",
    "\n",
    "\n",
    "# replace the nan Fare with a 0\n",
    "train_df.loc[pd.isna(train_df['Fare']), 'Fare'] = 0\n",
    "test_df.loc[pd.isna(test_df['Fare']), 'Fare'] = 0\n",
    "\n",
    "\n",
    "# Extract ticket length then drop the ticket\n",
    "# Commenting this out, as it was found useless\n",
    "#train_df['Ticket_len'] = train_df['Ticket'].apply(lambda x : len(x))\n",
    "#test_df['Ticket_len'] = test_df['Ticket'].apply(lambda x : len(x))\n",
    "\n",
    "train_df['Ticket_num'] = train_df['Ticket'].apply( \\\n",
    "    lambda x: x.split(' ')[1] if len(x.split(' ')) > 1 else 0)\n",
    "test_df['Ticket_num'] = test_df['Ticket'].apply( \\\n",
    "    lambda x: x.split(' ')[1] if len(x.split(' ')) > 1 else 0)\n",
    "\n",
    "train_df.loc[train_df['Ticket_num'] == '2.', 'Ticket_num'] = '2'\n",
    "train_df.loc[train_df['Ticket_num'] == 'Basle', 'Ticket_num'] = '541'\n",
    "\n",
    "#print(\"train\", train_df['Ticket_num'].unique())\n",
    "#print(\"test\" ,test_df['Ticket_num'].unique())\n",
    "# Let's transform the numbers to numeric values:\n",
    "train_df['Ticket_num'] = pd.to_numeric(train_df['Ticket_num'])\n",
    "test_df['Ticket_num'] = pd.to_numeric(test_df['Ticket_num'])\n",
    "\n",
    "train_df = train_df.assign(Ticket_class=train_df['Ticket'].str.extract(class_regex_pattern)[0])\n",
    "test_df = test_df.assign(Ticket_class=test_df['Ticket'].str.extract(class_regex_pattern)[0])\n",
    "\n",
    "train_df.drop(['Ticket'], axis=1, inplace=True)\n",
    "test_df.drop(['Ticket'], axis=1, inplace=True)\n",
    "\n",
    "# replace the nans with 0\n",
    "train_df.loc[pd.isna(train_df['Ticket_class']), 'Ticket_class'] = 0\n",
    "test_df.loc[pd.isna(test_df['Ticket_class']), 'Ticket_class'] = 0\n",
    "\n",
    "# replace the nans with 0\n",
    "train_df.loc[pd.isna(train_df['Cabin']), 'Cabin'] = 0\n",
    "test_df.loc[pd.isna(test_df['Cabin']), 'Cabin'] = 0\n",
    "\n",
    "# Use str.extract to extract the class letters\n",
    "train_df = train_df.assign(Cabin_class=train_df['Cabin'].str.extract(class_regex_pattern)[0])\n",
    "test_df = test_df.assign(Cabin_class=test_df['Cabin'].str.extract(class_regex_pattern)[0])\n",
    "\n",
    "# set the 'T' cabin class to 'A', so that we have a match between test and\n",
    "# train cabin class, for 1-hot encoding\n",
    "train_df.loc[train_df['Cabin_class'] == 'T', 'Cabin_class'] = 'A'\n",
    "\n",
    "train_df.loc[pd.isna(train_df['Cabin']), 'Cabin'] = 0\n",
    "test_df.loc[pd.isna(test_df['Cabin']), 'Cabin'] = 0\n",
    "\n",
    "# Now extract the number:\n",
    "cabin_regex_num_pattern = r'([0-9]+)'\n",
    "\n",
    "#train_df = train_df.assign(Cabin_num=train_df['Cabin'].str.extract(cabin_regex_num_pattern)[0])\n",
    "#test_df = test_df.assign(Cabin_num=test_df['Cabin'].str.extract(cabin_regex_num_pattern)[0])\n",
    "\n",
    "#train_df.loc[pd.isna(train_df['Cabin_num']), 'Cabin_num'] = 0\n",
    "#test_df.loc[pd.isna(test_df['Cabin_num']), 'Cabin_num'] = 0\n",
    "#train_df.loc[train_df['Cabin_num']]\n",
    "#print(\"cabin number values: \", train_df['Cabin_num'].unique())\n",
    "#print(\"cabin class values: \", train_df['Cabin_class'].unique())\n",
    "#print(\"cabin original values: \", train_df['Cabin'].unique())\n",
    "\n",
    "# Now I no longer need the original cabin value\n",
    "train_df.drop(['Cabin'], axis=1, inplace=True)\n",
    "test_df.drop(['Cabin'], axis=1, inplace=True)\n",
    "\n",
    "# Let's transform the numbers to numeric values:\n",
    "#train_df['Cabin_num'] = pd.to_numeric(train_df['Cabin_num'])\n",
    "#test_df['Cabin_num'] = pd.to_numeric(test_df['Cabin_num'])\n",
    "#print(\"cabin number values: \", train_df['Cabin_num'].unique())\n",
    "\n",
    "\n",
    "# Now let's have a look on all columns:\n",
    "#print(train_df.head())"
   ]
  },
  {
   "cell_type": "code",
   "execution_count": 10,
   "id": "16f32c69",
   "metadata": {
    "execution": {
     "iopub.execute_input": "2024-02-13T18:34:26.440674Z",
     "iopub.status.busy": "2024-02-13T18:34:26.440224Z",
     "iopub.status.idle": "2024-02-13T18:34:26.681193Z",
     "shell.execute_reply": "2024-02-13T18:34:26.679683Z"
    },
    "papermill": {
     "duration": 0.272825,
     "end_time": "2024-02-13T18:34:26.684066",
     "exception": false,
     "start_time": "2024-02-13T18:34:26.411241",
     "status": "completed"
    },
    "tags": []
   },
   "outputs": [
    {
     "name": "stdout",
     "output_type": "stream",
     "text": [
      "   Pclass Cabin_class\n",
      "0       1           C\n",
      "1       2           F\n",
      "2       3           F\n"
     ]
    }
   ],
   "source": [
    "from sklearn.preprocessing import LabelEncoder\n",
    "\n",
    "#################################################\n",
    "# Set missing cabin to Cabin median per Pclass #\n",
    "################################################\n",
    "\n",
    "#combined_df = pd.concat([train_df, test_df], axis=0)\n",
    "\n",
    "# Group by 'Pclass' and find the most common 'Cabin' value in each group\n",
    "cabin_by_pclass = train_df.groupby('Pclass')['Cabin_class'].agg(lambda x: x.mode().iloc[0] if (not x.mode().empty) and (x.mode().iloc[0] != 0) else None).reset_index()\n",
    "print(cabin_by_pclass)\n",
    "\n",
    "# Merge the most common cabin values back to the original DataFrame\n",
    "train_df = pd.merge(train_df, cabin_by_pclass, how='left', on='Pclass', suffixes=('', '_most_common'))\n",
    "test_df = pd.merge(test_df, cabin_by_pclass, how='left', on='Pclass', suffixes=('', '_most_common'))\n",
    "\n",
    "# Fill missing values in 'Cabin' with the most common value for each 'Pclass'\n",
    "train_df['Cabin_class'] = train_df['Cabin_class'].fillna(train_df['Cabin_class_most_common'])\n",
    "test_df['Cabin_class'] = test_df['Cabin_class'].fillna(test_df['Cabin_class_most_common'])\n",
    "\n",
    "# Drop the auxiliary column used for merging if needed\n",
    "train_df = train_df.drop(columns=['Cabin_class_most_common'])\n",
    "test_df = test_df.drop(columns=['Cabin_class_most_common'])\n",
    "\n",
    "# Now, df contains the 'Cabin' column with missing values filled based on the majority of cabins in their 'Pclass' group"
   ]
  },
  {
   "cell_type": "code",
   "execution_count": 11,
   "id": "ecf39ca4",
   "metadata": {
    "execution": {
     "iopub.execute_input": "2024-02-13T18:34:26.741088Z",
     "iopub.status.busy": "2024-02-13T18:34:26.740633Z",
     "iopub.status.idle": "2024-02-13T18:34:26.756888Z",
     "shell.execute_reply": "2024-02-13T18:34:26.755551Z"
    },
    "papermill": {
     "duration": 0.048883,
     "end_time": "2024-02-13T18:34:26.759943",
     "exception": false,
     "start_time": "2024-02-13T18:34:26.711060",
     "status": "completed"
    },
    "tags": []
   },
   "outputs": [
    {
     "name": "stdout",
     "output_type": "stream",
     "text": [
      "  Cabin_class  Survived\n",
      "0           A  0.437500\n",
      "1           B  0.744681\n",
      "2           C  0.545455\n",
      "3           D  0.757576\n",
      "4           E  0.750000\n",
      "5           F  0.295455\n",
      "6           G  0.500000\n"
     ]
    }
   ],
   "source": [
    "# Group by 'Pclass' and find the most common 'Cabin' value in each group\n",
    "survived_by_cabin_class = train_df.groupby('Cabin_class')['Survived'].mean().reset_index()\n",
    "print(survived_by_cabin_class)\n",
    "\n",
    "#sns.countplot(x='Cabin_class', hue='Pclass', data=train_df)\n",
    "\n",
    "#plt.title('Cabin_class count train')\n",
    "#plt.xlabel('Cabin_class')\n",
    "#plt.ylabel('Count')\n",
    "#plt.show()\n",
    "\n",
    "\n",
    "#sns.countplot(x='Cabin_class', data=test_df)\n",
    "\n",
    "#plt.title('Cabin_class count test')\n",
    "#plt.xlabel('Cabin_class')\n",
    "#plt.ylabel('Count')\n",
    "#plt.show()"
   ]
  },
  {
   "cell_type": "markdown",
   "id": "90f9267b",
   "metadata": {
    "papermill": {
     "duration": 0.027142,
     "end_time": "2024-02-13T18:34:26.814211",
     "exception": false,
     "start_time": "2024-02-13T18:34:26.787069",
     "status": "completed"
    },
    "tags": []
   },
   "source": [
    "Create groups of cabin classes, per survived rate\n",
    "\n",
    "We got previously that:\n",
    "\n",
    "  Cabin_class  Survived\n",
    "\n",
    "A  0.437500\n",
    "\n",
    "B  0.744681\n",
    "\n",
    "C  0.545455\n",
    "\n",
    "D  0.757576\n",
    "\n",
    "E  0.750000\n",
    "\n",
    "F  0.295455\n",
    "\n",
    "G  0.500000\n",
    "\n",
    "Hence the groups will be: \n",
    "High survivor rate: (B, D, E)\n",
    "Medium survivor rate: (A, C, G)\n",
    "Low survior rate: F\n"
   ]
  },
  {
   "cell_type": "code",
   "execution_count": 12,
   "id": "898bedc1",
   "metadata": {
    "execution": {
     "iopub.execute_input": "2024-02-13T18:34:26.873472Z",
     "iopub.status.busy": "2024-02-13T18:34:26.872334Z",
     "iopub.status.idle": "2024-02-13T18:34:27.453664Z",
     "shell.execute_reply": "2024-02-13T18:34:27.452679Z"
    },
    "papermill": {
     "duration": 0.612879,
     "end_time": "2024-02-13T18:34:27.456018",
     "exception": false,
     "start_time": "2024-02-13T18:34:26.843139",
     "status": "completed"
    },
    "tags": []
   },
   "outputs": [
    {
     "data": {
      "image/png": "[encoded data removed]",
      "text/plain": [
       "<Figure size 640x480 with 1 Axes>"
      ]
     },
     "metadata": {},
     "output_type": "display_data"
    },
    {
     "data": {
      "image/png": "[encoded data removed]",
      "text/plain": [
       "<Figure size 640x480 with 1 Axes>"
      ]
     },
     "metadata": {},
     "output_type": "display_data"
    }
   ],
   "source": [
    "cabin_class_high = ['B', 'D', 'E']\n",
    "cabin_class_medium = ['A', 'C', 'G']\n",
    "cabin_class_low = ['F']\n",
    "\n",
    "train_df.loc[(train_df['Cabin_class'].isin(cabin_class_high)), 'Cabin_class'] = 'H'\n",
    "train_df.loc[(train_df['Cabin_class'].isin(cabin_class_medium)), 'Cabin_class'] = 'M'\n",
    "train_df.loc[(train_df['Cabin_class'].isin(cabin_class_low)), 'Cabin_class'] = 'L'\n",
    "\n",
    "\n",
    "test_df.loc[(test_df['Cabin_class'].isin(cabin_class_high)), 'Cabin_class'] = 'H'\n",
    "test_df.loc[(test_df['Cabin_class'].isin(cabin_class_medium)), 'Cabin_class'] = 'M'\n",
    "test_df.loc[(test_df['Cabin_class'].isin(cabin_class_low)), 'Cabin_class'] = 'L'\n",
    "\n",
    "\n",
    "sns.countplot(x='Cabin_class', data=train_df)\n",
    "\n",
    "# You can customize the plot as needed\n",
    "plt.title('Cabin_class count train')\n",
    "plt.xlabel('Cabin_class')\n",
    "plt.ylabel('Count')\n",
    "plt.show()\n",
    "\n",
    "\n",
    "sns.countplot(x='Cabin_class', data=test_df)\n",
    "\n",
    "# You can customize the plot as needed\n",
    "plt.title('Cabin_class count test')\n",
    "plt.xlabel('Cabin_class')\n",
    "plt.ylabel('Count')\n",
    "plt.show()\n"
   ]
  },
  {
   "cell_type": "markdown",
   "id": "f904af4c",
   "metadata": {
    "papermill": {
     "duration": 0.029105,
     "end_time": "2024-02-13T18:34:27.513860",
     "exception": false,
     "start_time": "2024-02-13T18:34:27.484755",
     "status": "completed"
    },
    "tags": []
   },
   "source": [
    "The fare is an important feature - let's create fare groups for higher correlation in test"
   ]
  },
  {
   "cell_type": "code",
   "execution_count": 13,
   "id": "e1e0ac18",
   "metadata": {
    "execution": {
     "iopub.execute_input": "2024-02-13T18:34:27.574463Z",
     "iopub.status.busy": "2024-02-13T18:34:27.573705Z",
     "iopub.status.idle": "2024-02-13T18:34:27.634546Z",
     "shell.execute_reply": "2024-02-13T18:34:27.633657Z"
    },
    "papermill": {
     "duration": 0.093239,
     "end_time": "2024-02-13T18:34:27.637006",
     "exception": false,
     "start_time": "2024-02-13T18:34:27.543767",
     "status": "completed"
    },
    "tags": []
   },
   "outputs": [
    {
     "name": "stdout",
     "output_type": "stream",
     "text": [
      "   Pclass     Fare\n",
      "0       1  61.9792\n",
      "1       2  15.0229\n",
      "2       3   8.0500\n"
     ]
    },
    {
     "data": {
      "text/html": [
       "<div>\n",
       "<style scoped>\n",
       "    .dataframe tbody tr th:only-of-type {\n",
       "        vertical-align: middle;\n",
       "    }\n",
       "\n",
       "    .dataframe tbody tr th {\n",
       "        vertical-align: top;\n",
       "    }\n",
       "\n",
       "    .dataframe thead th {\n",
       "        text-align: right;\n",
       "    }\n",
       "</style>\n",
       "<table border=\"1\" class=\"dataframe\">\n",
       "  <thead>\n",
       "    <tr style=\"text-align: right;\">\n",
       "      <th></th>\n",
       "      <th>PassengerId</th>\n",
       "      <th>Pclass</th>\n",
       "      <th>Name</th>\n",
       "      <th>Sex</th>\n",
       "      <th>Age</th>\n",
       "      <th>SibSp</th>\n",
       "      <th>Parch</th>\n",
       "      <th>Fare</th>\n",
       "      <th>Embarked</th>\n",
       "      <th>Predicted_age</th>\n",
       "      <th>Ticket_num</th>\n",
       "      <th>Ticket_class</th>\n",
       "      <th>Cabin_class</th>\n",
       "    </tr>\n",
       "  </thead>\n",
       "  <tbody>\n",
       "  </tbody>\n",
       "</table>\n",
       "</div>"
      ],
      "text/plain": [
       "Empty DataFrame\n",
       "Columns: [PassengerId, Pclass, Name, Sex, Age, SibSp, Parch, Fare, Embarked, Predicted_age, Ticket_num, Ticket_class, Cabin_class]\n",
       "Index: []"
      ]
     },
     "execution_count": 13,
     "metadata": {},
     "output_type": "execute_result"
    }
   ],
   "source": [
    "######################################\n",
    "# Set missing fare to Pclass median #\n",
    "#####################################\n",
    "\n",
    "# Assuming train_df and test_df are your training and test DataFrames\n",
    "#combined_df = pd.concat([train_df, test_df], axis=0)\n",
    "\n",
    "# Exclude rows with Age=0 for median calculation\n",
    "filtered_df = train_df[train_df['Fare'] > 0]\n",
    "\n",
    "# Compute median age per Pclass\n",
    "median_fare_by_pclass = filtered_df.groupby('Pclass')['Fare'].median().reset_index()\n",
    "\n",
    "# Display the result\n",
    "print(median_fare_by_pclass)\n",
    "\n",
    "# Merge the median values back into the original DataFrames based on 'Pclass'\n",
    "train_df = train_df.merge(median_fare_by_pclass, on='Pclass', how='left', suffixes=('', '_median'))\n",
    "test_df = test_df.merge(median_fare_by_pclass, on='Pclass', how='left', suffixes=('', '_median'))\n",
    "\n",
    "# Replace 0 entries in 'Age' with the corresponding median values\n",
    "train_df['Fare'] = train_df.apply(lambda row: row['Fare_median'] if row['Fare'] == 0 else row['Fare'], axis=1)\n",
    "test_df['Fare'] = test_df.apply(lambda row: row['Fare_median'] if row['Fare'] == 0 else row['Fare'], axis=1)\n",
    "\n",
    "# Drop the auxiliary columns used for median calculation\n",
    "train_df.drop(columns=['Fare_median'], inplace=True)\n",
    "test_df.drop(columns=['Fare_median'], inplace=True)\n",
    "\n",
    "# Verify the changes\n",
    "#print(train_df.head(1))\n",
    "#print(test_df.head(1))\n",
    "\n",
    "test_df.loc[test_df['Fare'] == 0]\n",
    "\n"
   ]
  },
  {
   "cell_type": "code",
   "execution_count": 14,
   "id": "ec293d83",
   "metadata": {
    "execution": {
     "iopub.execute_input": "2024-02-13T18:34:27.697052Z",
     "iopub.status.busy": "2024-02-13T18:34:27.695938Z",
     "iopub.status.idle": "2024-02-13T18:34:27.722845Z",
     "shell.execute_reply": "2024-02-13T18:34:27.721882Z"
    },
    "papermill": {
     "duration": 0.060214,
     "end_time": "2024-02-13T18:34:27.725417",
     "exception": false,
     "start_time": "2024-02-13T18:34:27.665203",
     "status": "completed"
    },
    "tags": []
   },
   "outputs": [
    {
     "data": {
      "text/html": [
       "<div>\n",
       "<style scoped>\n",
       "    .dataframe tbody tr th:only-of-type {\n",
       "        vertical-align: middle;\n",
       "    }\n",
       "\n",
       "    .dataframe tbody tr th {\n",
       "        vertical-align: top;\n",
       "    }\n",
       "\n",
       "    .dataframe thead th {\n",
       "        text-align: right;\n",
       "    }\n",
       "</style>\n",
       "<table border=\"1\" class=\"dataframe\">\n",
       "  <thead>\n",
       "    <tr style=\"text-align: right;\">\n",
       "      <th></th>\n",
       "      <th>PassengerId</th>\n",
       "      <th>Pclass</th>\n",
       "      <th>Name</th>\n",
       "      <th>Sex</th>\n",
       "      <th>Age</th>\n",
       "      <th>SibSp</th>\n",
       "      <th>Parch</th>\n",
       "      <th>Embarked</th>\n",
       "      <th>Predicted_age</th>\n",
       "      <th>Ticket_num</th>\n",
       "      <th>Ticket_class</th>\n",
       "      <th>Cabin_class</th>\n",
       "      <th>Fare_group</th>\n",
       "    </tr>\n",
       "  </thead>\n",
       "  <tbody>\n",
       "  </tbody>\n",
       "</table>\n",
       "</div>"
      ],
      "text/plain": [
       "Empty DataFrame\n",
       "Columns: [PassengerId, Pclass, Name, Sex, Age, SibSp, Parch, Embarked, Predicted_age, Ticket_num, Ticket_class, Cabin_class, Fare_group]\n",
       "Index: []"
      ]
     },
     "execution_count": 14,
     "metadata": {},
     "output_type": "execute_result"
    }
   ],
   "source": [
    "fare_bins = [0, 10, 100, 300, 600]\n",
    "#train_df['Fare_group'] = pd.cut(train_df['Fare'], bins=fare_bins)\n",
    "#test_df['Fare_group'] = pd.cut(test_df['Fare'], bins=fare_bins)\n",
    "\n",
    "#fare_survival_rate = train_df.groupby('Fare_group')['Survived'].mean().reset_index()\n",
    "#print(fare_survival_rate)\n",
    "\n",
    "def set_fare_group(df):\n",
    "    df.loc[(df['Fare'] > 0) & (df['Fare']<=10), 'Fare_group'] = 1\n",
    "    df.loc[(df['Fare'] > 10) & (df['Fare']<=100), 'Fare_group'] = 2\n",
    "    df.loc[(df['Fare'] > 100) & (df['Fare']<=300), 'Fare_group'] = 3\n",
    "    df.loc[(df['Fare'] > 300) & (df['Fare']<=600), 'Fare_group'] = 4\n",
    "\n",
    "set_fare_group(train_df)\n",
    "set_fare_group(test_df)\n",
    "\n",
    "\n",
    "# Now I no longer need the original Fare value\n",
    "train_df.drop(['Fare'], axis=1, inplace=True)\n",
    "test_df.drop(['Fare'], axis=1, inplace=True)\n",
    "\n",
    "test_df.loc[test_df['Fare_group'] == 0]\n"
   ]
  },
  {
   "cell_type": "markdown",
   "id": "a57b2f9d",
   "metadata": {
    "papermill": {
     "duration": 0.028177,
     "end_time": "2024-02-13T18:34:27.782515",
     "exception": false,
     "start_time": "2024-02-13T18:34:27.754338",
     "status": "completed"
    },
    "tags": []
   },
   "source": [
    "The names are trickier - I would want to extract the title that for sure has a meaning. "
   ]
  },
  {
   "cell_type": "code",
   "execution_count": 15,
   "id": "b752c7c3",
   "metadata": {
    "execution": {
     "iopub.execute_input": "2024-02-13T18:34:27.845270Z",
     "iopub.status.busy": "2024-02-13T18:34:27.843921Z",
     "iopub.status.idle": "2024-02-13T18:34:27.872812Z",
     "shell.execute_reply": "2024-02-13T18:34:27.871375Z"
    },
    "papermill": {
     "duration": 0.063415,
     "end_time": "2024-02-13T18:34:27.875339",
     "exception": false,
     "start_time": "2024-02-13T18:34:27.811924",
     "status": "completed"
    },
    "tags": []
   },
   "outputs": [
    {
     "name": "stdout",
     "output_type": "stream",
     "text": [
      "     Title  Survived\n",
      "0     Capt  0.000000\n",
      "1      Col  0.500000\n",
      "2      Don  0.000000\n",
      "3       Dr  0.428571\n",
      "4     Lady  1.000000\n",
      "5    Major  0.500000\n",
      "6   Master  0.575000\n",
      "7     Miss  0.699454\n",
      "8       Mr  0.156371\n",
      "9      Mrs  0.795276\n",
      "10      Ms  1.000000\n",
      "11     Rev  0.000000\n",
      "12     Sir  1.000000\n",
      "['Mr' 'Mrs' 'Miss' 'Master' 'Don' 'Rev' 'Dr' 'Ms' 'Major' 'Lady' 'Sir'\n",
      " 'Col' 'Capt']\n",
      "['Mr' 'Mrs' 'Miss' 'Master' 'Ms' 'Col' 'Rev' 'Dr' 'Lady']\n"
     ]
    }
   ],
   "source": [
    "# extract the  Title out of name  into a new feature:\n",
    "train_df['Title'] = train_df['Name'].apply(\n",
    "                lambda x : x.split(',')[1].split('.')[0].strip())\n",
    "test_df['Title'] = test_df['Name'].apply(\n",
    "                lambda x : x.split(',')[1].split('.')[0].strip())\n",
    "\n",
    "\n",
    "#print(train_df['Title'].unique())\n",
    "#print(test_df['Title'].unique())\n",
    "\n",
    "# Since we have a mismatch between train and test, let's investigate it further:\n",
    "#print(train_df[train_df['Title'] == 'Don'])\n",
    "\n",
    "# THis is part of his name, let's modify the title to \"Mr\"\n",
    "#train_df.loc[train_df['Title'] == 'Don', 'Title'] = 'Mr'\n",
    "#print(train_df.head(30))\n",
    "#print(train_df.iloc[30])\n",
    "\n",
    "\n",
    "#the mme has no family so let's set to Miss (she is 24)\n",
    "#print(train_df[train_df['Title'] == 'Mme'])\n",
    "train_df.loc[train_df['Title'] == 'Mme', 'Title'] = 'Miss'\n",
    "\n",
    "#print(train_df[train_df['Title'] == 'Major'])\n",
    "#print(train_df[train_df['Title'] == 'Lady'])\n",
    "#print(train_df[train_df['Title'] == 'Sir'])\n",
    "#print(train_df[train_df['Title'] == 'Mlle'])\n",
    "# the Mlle is a Mrs according to full name, so let's apply that:\n",
    "train_df.loc[train_df['Title'] == 'Mlle', 'Title'] = 'Mrs'\n",
    "\n",
    "#print(train_df[train_df['Title'] == 'Capt'])\n",
    "#print(train_df[train_df['Title'] == 'the Countess'])\n",
    "train_df.loc[train_df['Title'] == 'the Countess', 'Title'] = 'Lady'\n",
    "\n",
    "#print(train_df[train_df['Title'] == 'Jonkheer'])\n",
    "train_df.loc[train_df['Title'] == 'Jonkheer', 'Title'] = 'Mr'\n",
    "\n",
    "\n",
    "#print(test_df[test_df['Title'] == 'Dona'])\n",
    "test_df.loc[test_df['Title'] == 'Dona', 'Title'] = 'Lady'\n",
    "\n",
    "#sns.countplot(x='Title', hue='Survived', data=train_df)\n",
    "# Rotate x-axis labels vertically\n",
    "#plt.xticks(rotation=90)\n",
    "#plt.title('Survived vs. Not Survived for Title')\n",
    "#plt.xlabel('Title')\n",
    "#plt.ylabel('Count')\n",
    "#plt.show()\n",
    "\n",
    "title_survival_rate = train_df.groupby('Title')['Survived'].mean().reset_index()\n",
    "print(title_survival_rate)\n",
    "\n",
    "print(train_df['Title'].unique())\n",
    "print(test_df['Title'].unique())\n",
    "\n",
    "train_df.drop(['Name'], axis=1, inplace=True)\n",
    "test_df.drop(['Name'], axis=1, inplace=True)"
   ]
  },
  {
   "cell_type": "markdown",
   "id": "9d161659",
   "metadata": {
    "papermill": {
     "duration": 0.028312,
     "end_time": "2024-02-13T18:34:27.931890",
     "exception": false,
     "start_time": "2024-02-13T18:34:27.903578",
     "status": "completed"
    },
    "tags": []
   },
   "source": [
    "Title is a very important feature, so let's divide it to groups, for higher correlation in test. "
   ]
  },
  {
   "cell_type": "code",
   "execution_count": 16,
   "id": "e4ea542b",
   "metadata": {
    "execution": {
     "iopub.execute_input": "2024-02-13T18:34:27.991224Z",
     "iopub.status.busy": "2024-02-13T18:34:27.990782Z",
     "iopub.status.idle": "2024-02-13T18:34:28.714170Z",
     "shell.execute_reply": "2024-02-13T18:34:28.712703Z"
    },
    "papermill": {
     "duration": 0.756535,
     "end_time": "2024-02-13T18:34:28.717028",
     "exception": false,
     "start_time": "2024-02-13T18:34:27.960493",
     "status": "completed"
    },
    "tags": []
   },
   "outputs": [
    {
     "data": {
      "image/png": "[encoded data removed]",
      "text/plain": [
       "<Figure size 640x480 with 1 Axes>"
      ]
     },
     "metadata": {},
     "output_type": "display_data"
    },
    {
     "data": {
      "image/png": "[encoded data removed]",
      "text/plain": [
       "<Figure size 640x480 with 1 Axes>"
      ]
     },
     "metadata": {},
     "output_type": "display_data"
    },
    {
     "name": "stdout",
     "output_type": "stream",
     "text": [
      "     Title  Survived\n",
      "0     Capt  0.000000\n",
      "1      Col  0.500000\n",
      "2      Don  0.000000\n",
      "3       Dr  0.428571\n",
      "4     Lady  1.000000\n",
      "5    Major  0.500000\n",
      "6   Master  0.575000\n",
      "7     Miss  0.699454\n",
      "8       Mr  0.156371\n",
      "9      Mrs  0.795276\n",
      "10      Ms  1.000000\n",
      "11     Rev  0.000000\n",
      "12     Sir  1.000000\n"
     ]
    }
   ],
   "source": [
    "sns.countplot(x='Title', data=test_df)\n",
    "\n",
    "# You can customize the plot as needed\n",
    "plt.title('Title count test')\n",
    "plt.xlabel('Title')\n",
    "plt.ylabel('Count')\n",
    "plt.show()\n",
    "\n",
    "sns.countplot(x='Title', hue='Survived', data=train_df)\n",
    "\n",
    "# You can customize the plot as needed\n",
    "plt.title('Survived vs. Not Survived for Title')\n",
    "plt.xlabel('Title')\n",
    "plt.ylabel('Count')\n",
    "plt.show()\n",
    "\n",
    "\n",
    "title_bins = [0, 1, 2, 3, 4, 5, 6, 7, 8, 9, 10, 11]\n",
    "title_survival_rate = train_df.groupby('Title')['Survived'].mean().reset_index()\n",
    "print(title_survival_rate)\n",
    "\n",
    "\n",
    "group0 = ['Capt', 'Mr', 'Rev']\n",
    "group1 = ['Col', 'Dr', 'Major', 'Master']\n",
    "group2 = ['Miss', 'Mrs', 'Ms']\n",
    "group3 = ['Sir', 'Lady']\n",
    "\n",
    "\n",
    "def set_prestige_by_title(df):\n",
    "    df.loc[(df['Title'].isin(group0), 'Prestige')] = 'G0'\n",
    "    df.loc[(df['Title'].isin(group1), 'Prestige')] = 'G1'\n",
    "    df.loc[(df['Title'].isin(group2), 'Prestige')] = 'G2'\n",
    "    df.loc[(df['Title'].isin(group3), 'Prestige')] = 'G3'\n",
    "    \n",
    "\n",
    "set_prestige_by_title(train_df)\n",
    "set_prestige_by_title(test_df)\n"
   ]
  },
  {
   "cell_type": "markdown",
   "id": "1cbe47cc",
   "metadata": {
    "papermill": {
     "duration": 0.031001,
     "end_time": "2024-02-13T18:34:28.778488",
     "exception": false,
     "start_time": "2024-02-13T18:34:28.747487",
     "status": "completed"
    },
    "tags": []
   },
   "source": [
    "Now let's 1-hot encode Sex, Embarked, Cabin_class which are all categories"
   ]
  },
  {
   "cell_type": "code",
   "execution_count": 17,
   "id": "746d61c9",
   "metadata": {
    "execution": {
     "iopub.execute_input": "2024-02-13T18:34:28.841448Z",
     "iopub.status.busy": "2024-02-13T18:34:28.840758Z",
     "iopub.status.idle": "2024-02-13T18:34:28.869087Z",
     "shell.execute_reply": "2024-02-13T18:34:28.867967Z"
    },
    "papermill": {
     "duration": 0.063999,
     "end_time": "2024-02-13T18:34:28.872402",
     "exception": false,
     "start_time": "2024-02-13T18:34:28.808403",
     "status": "completed"
    },
    "tags": []
   },
   "outputs": [],
   "source": [
    "from sklearn.preprocessing import LabelEncoder\n",
    "\n",
    "train_df_encoded = pd.get_dummies(train_df, columns=['Sex', 'Embarked', 'Cabin_class', 'Prestige'])\n",
    "test_df_encoded = pd.get_dummies(test_df, columns=['Sex', 'Embarked', 'Cabin_class', 'Prestige'])\n",
    "#train_df_encoded = pd.get_dummies(train_df, columns=['Sex', 'Embarked'])\n",
    "#test_df_encoded = pd.get_dummies(test_df, columns=['Sex', 'Embarked'])\n",
    "\n",
    "# Initialize the LabelEncoder\n",
    "label_encoder = LabelEncoder()\n",
    "\n",
    "#train_df_encoded.loc[train_df_encoded['Cabin_class'] == 0, 'Cabin_class'] = \"X\"\n",
    "#test_df_encoded.loc[test_df_encoded['Cabin_class'] == 0, 'Cabin_class'] = \"X\"\n",
    "\n",
    "train_df_encoded.loc[train_df_encoded['Ticket_class'] == 0, 'Ticket_class'] = \"NaN\"\n",
    "test_df_encoded.loc[test_df_encoded['Ticket_class'] == 0, 'Ticket_class'] = \"NaN\"\n",
    "\n",
    "# Fit and transform the data\n",
    "train_df_encoded['Title'] = label_encoder.fit_transform(train_df_encoded['Title'])\n",
    "test_df_encoded['Title'] = label_encoder.fit_transform(test_df_encoded['Title'])\n",
    "\n",
    "#train_df_encoded['Cabin_class'] = label_encoder.fit_transform(train_df_encoded['Cabin_class'])\n",
    "#test_df_encoded['Cabin_class'] = label_encoder.fit_transform(test_df_encoded['Cabin_class'])\n",
    "\n",
    "train_df_encoded['Ticket_class'] = label_encoder.fit_transform(train_df_encoded['Ticket_class'])\n",
    "test_df_encoded['Ticket_class'] = label_encoder.fit_transform(test_df_encoded['Ticket_class'])\n",
    "\n",
    "\n",
    "train_df_encoded.drop(['PassengerId'], axis=1, inplace=True)\n",
    "test_df_encoded.drop(['PassengerId'], axis=1, inplace=True)\n"
   ]
  },
  {
   "cell_type": "code",
   "execution_count": 18,
   "id": "7d2ce4bf",
   "metadata": {
    "execution": {
     "iopub.execute_input": "2024-02-13T18:34:28.936706Z",
     "iopub.status.busy": "2024-02-13T18:34:28.935938Z",
     "iopub.status.idle": "2024-02-13T18:34:28.986363Z",
     "shell.execute_reply": "2024-02-13T18:34:28.985223Z"
    },
    "papermill": {
     "duration": 0.086855,
     "end_time": "2024-02-13T18:34:28.989537",
     "exception": false,
     "start_time": "2024-02-13T18:34:28.902682",
     "status": "completed"
    },
    "tags": []
   },
   "outputs": [
    {
     "name": "stdout",
     "output_type": "stream",
     "text": [
      "   Pclass   Age\n",
      "0       1  37.0\n",
      "1       2  29.0\n",
      "2       3  24.0\n",
      "[22.   38.   26.   35.   24.   54.    2.   27.   14.    4.   58.   20.\n",
      " 39.   55.   29.   31.   34.   15.   28.    8.   19.   40.   37.   66.\n",
      " 42.   21.   18.    3.    7.   49.   65.   28.5   5.   11.   45.   17.\n",
      " 32.   16.   25.    0.83 30.   33.   23.   46.   59.   71.   47.   14.5\n",
      " 70.5  32.5  12.    9.   36.5  51.   55.5  40.5  44.    1.   61.   56.\n",
      " 50.   36.   45.5  20.5  62.   41.   52.   63.   23.5   0.92 43.   60.\n",
      " 10.   64.   13.   48.    0.75 53.   57.   80.   70.   24.5   6.    0.67\n",
      " 30.5   0.42 34.5  74.  ]\n",
      "[34.5  47.   62.   27.   22.   14.   30.   26.   18.   21.   24.   46.\n",
      " 23.   63.   35.   45.   55.    9.   37.   48.   50.   22.5  41.   33.\n",
      " 18.5  25.   39.   60.   36.   20.   28.   29.   10.   17.   32.   13.\n",
      " 31.   28.5  32.5   6.   67.   49.    2.   76.   43.   16.    1.   12.\n",
      " 42.   53.   26.5  40.   61.   60.5   7.   15.   54.   64.   34.   11.5\n",
      "  8.    0.33 38.   57.   40.5   0.92 19.   36.5   0.75  0.83 58.    0.17\n",
      " 59.   14.5  44.    5.   51.    3.   38.5 ]\n"
     ]
    }
   ],
   "source": [
    "# In the correlation matrix we get that age is highly correlated with Pclass, \n",
    "# so let's compute median age by Pclass and then set the values for the missing\n",
    "# entries. Do not forgot we have 0 for nans. \n",
    "\n",
    "# Assuming train_df and test_df are your training and test DataFrames\n",
    "#combined_df = pd.concat([train_df, test_df], axis=0)\n",
    "\n",
    "# Exclude rows with Age=0 for median calculation\n",
    "#filtered_df = combined_df[combined_df['Age'] > 0]\n",
    "filtered_df = train_df[train_df['Age'] > 0]\n",
    "\n",
    "# Compute median age per Pclass\n",
    "median_age_by_pclass = filtered_df.groupby('Pclass')['Age'].median().reset_index()\n",
    "\n",
    "# Display the result\n",
    "print(median_age_by_pclass)\n",
    "\n",
    "# Merge the median values back into the original DataFrames based on 'Pclass'\n",
    "train_df_encoded = train_df_encoded.merge(median_age_by_pclass, on='Pclass', how='left', suffixes=('', '_median'))\n",
    "test_df_encoded = test_df_encoded.merge(median_age_by_pclass, on='Pclass', how='left', suffixes=('', '_median'))\n",
    "\n",
    "# Replace 0 entries in 'Age' with the corresponding median values\n",
    "train_df_encoded['Age'] = train_df_encoded.apply(lambda row: row['Age_median'] if row['Age'] == 0 else row['Age'], axis=1)\n",
    "test_df_encoded['Age'] = test_df_encoded.apply(lambda row: row['Age_median'] if row['Age'] == 0 else row['Age'], axis=1)\n",
    "\n",
    "# Drop the auxiliary columns used for median calculation\n",
    "train_df_encoded.drop(columns=['Age_median'], inplace=True)\n",
    "test_df_encoded.drop(columns=['Age_median'], inplace=True)\n",
    "\n",
    "# Verify the changes\n",
    "#print(train_df.head(1))\n",
    "#print(test_df.head(1))\n",
    "print(train_df_encoded['Age'].unique())\n",
    "print(test_df_encoded['Age'].unique())"
   ]
  },
  {
   "cell_type": "code",
   "execution_count": 19,
   "id": "81a6c60a",
   "metadata": {
    "execution": {
     "iopub.execute_input": "2024-02-13T18:34:29.051772Z",
     "iopub.status.busy": "2024-02-13T18:34:29.051315Z",
     "iopub.status.idle": "2024-02-13T18:34:29.064710Z",
     "shell.execute_reply": "2024-02-13T18:34:29.063413Z"
    },
    "papermill": {
     "duration": 0.047783,
     "end_time": "2024-02-13T18:34:29.067456",
     "exception": false,
     "start_time": "2024-02-13T18:34:29.019673",
     "status": "completed"
    },
    "tags": []
   },
   "outputs": [],
   "source": [
    "# Compute median age per Pclass\n",
    "#df['how_many_x'] = df.groupby('x')['x'].transform('count')\n",
    "train_df_encoded['Group_size'] = train_df_encoded.groupby('Ticket_num')['Ticket_num'].transform('count')\n",
    "test_df_encoded['Group_size'] = test_df_encoded.groupby('Ticket_num')['Ticket_num'].transform('count')\n",
    "\n",
    "train_df_encoded.loc[train_df_encoded['Group_size'] == 665, 'Group_size'] = 0\n",
    "test_df_encoded.loc[test_df_encoded['Group_size'] == 665, 'Group_size'] = 0\n",
    "\n",
    "#print(train_df_encoded.loc[train_df_encoded['Group_size'] > 1])"
   ]
  },
  {
   "cell_type": "markdown",
   "id": "a7d21947",
   "metadata": {
    "papermill": {
     "duration": 0.030024,
     "end_time": "2024-02-13T18:34:29.129469",
     "exception": false,
     "start_time": "2024-02-13T18:34:29.099445",
     "status": "completed"
    },
    "tags": []
   },
   "source": [
    "Next thing to do is to attach a family size to each passenger."
   ]
  },
  {
   "cell_type": "code",
   "execution_count": 20,
   "id": "6e776f34",
   "metadata": {
    "execution": {
     "iopub.execute_input": "2024-02-13T18:34:29.191099Z",
     "iopub.status.busy": "2024-02-13T18:34:29.190624Z",
     "iopub.status.idle": "2024-02-13T18:34:29.212369Z",
     "shell.execute_reply": "2024-02-13T18:34:29.210981Z"
    },
    "papermill": {
     "duration": 0.055907,
     "end_time": "2024-02-13T18:34:29.215178",
     "exception": false,
     "start_time": "2024-02-13T18:34:29.159271",
     "status": "completed"
    },
    "tags": []
   },
   "outputs": [
    {
     "name": "stdout",
     "output_type": "stream",
     "text": [
      "   Survived  Pclass   Age  SibSp  Parch  Predicted_age  Ticket_num  \\\n",
      "0         0       3  22.0      1      0          False       21171   \n",
      "\n",
      "   Ticket_class  Fare_group  Title  ...  Embarked_S  Cabin_class_H  \\\n",
      "0             0         1.0      8  ...        True          False   \n",
      "\n",
      "   Cabin_class_L  Cabin_class_M  Prestige_G0  Prestige_G1  Prestige_G2  \\\n",
      "0           True          False         True        False        False   \n",
      "\n",
      "   Prestige_G3  Group_size  Family_size  \n",
      "0        False           1            2  \n",
      "\n",
      "[1 rows x 24 columns]\n",
      "[ 2  1  5  3  7  6  4  8 11]\n",
      "[ 1  2  3  5  4  6  8  7 11]\n"
     ]
    }
   ],
   "source": [
    "# summing up all sbsp (siblings, spouse) and parch (parents and children)\n",
    "# to get a family size per passenger\n",
    "train_df_encoded['Family_size'] = train_df_encoded['SibSp'] + train_df_encoded['Parch'] + 1\n",
    "test_df_encoded['Family_size'] = test_df_encoded['SibSp'] + test_df_encoded['Parch'] + 1\n",
    "\n",
    "# Print the DataFrame to see the changes\n",
    "print(train_df_encoded.head(1))\n",
    "print(train_df_encoded['Family_size'].unique())\n",
    "print(test_df_encoded['Family_size'].unique())"
   ]
  },
  {
   "cell_type": "code",
   "execution_count": 21,
   "id": "b2cbb3b8",
   "metadata": {
    "execution": {
     "iopub.execute_input": "2024-02-13T18:34:29.277869Z",
     "iopub.status.busy": "2024-02-13T18:34:29.276646Z",
     "iopub.status.idle": "2024-02-13T18:34:29.299096Z",
     "shell.execute_reply": "2024-02-13T18:34:29.298021Z"
    },
    "papermill": {
     "duration": 0.056071,
     "end_time": "2024-02-13T18:34:29.301832",
     "exception": false,
     "start_time": "2024-02-13T18:34:29.245761",
     "status": "completed"
    },
    "tags": []
   },
   "outputs": [
    {
     "name": "stdout",
     "output_type": "stream",
     "text": [
      "   Family_bin  Survived\n",
      "0         1.0  0.361032\n",
      "1         2.0  0.610687\n",
      "2         3.0  0.161290\n"
     ]
    }
   ],
   "source": [
    "#sns.countplot(x='Family_size', data=test_df_encoded)\n",
    "\n",
    "#plt.title('Family_size count test')\n",
    "#plt.xlabel('Family_size')\n",
    "#plt.ylabel('Count')\n",
    "#plt.show()\n",
    "\n",
    "#sns.countplot(x='Family_size', hue='Survived', data=train_df_encoded)\n",
    "\n",
    "#plt.title('Survived vs. Not Survived for Family_size')\n",
    "#plt.xlabel('Family_size')\n",
    "#plt.ylabel('Count')\n",
    "#plt.show()\n",
    "\n",
    "\n",
    "# Define age bins\n",
    "#family_bins = [0, 2, 4, 20]  \n",
    "\n",
    "# Create a new column with age groups\n",
    "#train_df_encoded['Family_bin'] = pd.cut(train_df_encoded['Family_size'], bins=family_bins)\n",
    "\n",
    "def set_family_bin(df):\n",
    "    df.loc[(df['Family_size'] > 0) & \\\n",
    "                         (df['Family_size']<=2), 'Family_bin'] = 1\n",
    "    df.loc[(df['Family_size'] > 2) & \\\n",
    "                         (df['Family_size']<=4), 'Family_bin'] = 2\n",
    "    df.loc[(df['Family_size'] > 4) & \\\n",
    "                         (df['Family_size']<=20), 'Family_bin'] = 3\n",
    "    \n",
    "set_family_bin(train_df_encoded)\n",
    "set_family_bin(test_df_encoded)\n",
    "\n",
    "# Calculate the survival rate within each age group\n",
    "family_survival_rate = train_df_encoded.groupby('Family_bin')['Survived'].mean().reset_index()\n",
    "print(family_survival_rate)\n",
    "\n",
    "#Since we engineered the family size, we no longer need it:\n",
    "train_df_encoded.drop(['Family_size'], axis=1, inplace=True)\n",
    "test_df_encoded.drop(['Family_size'], axis=1, inplace=True)\n"
   ]
  },
  {
   "cell_type": "markdown",
   "id": "46e5bdd8",
   "metadata": {
    "papermill": {
     "duration": 0.028787,
     "end_time": "2024-02-13T18:34:29.359442",
     "exception": false,
     "start_time": "2024-02-13T18:34:29.330655",
     "status": "completed"
    },
    "tags": []
   },
   "source": [
    "Let's examine the train and test data more carefully, to see what correlations we have, and get ideas for featuers engineering."
   ]
  },
  {
   "cell_type": "code",
   "execution_count": 22,
   "id": "2c525fba",
   "metadata": {
    "execution": {
     "iopub.execute_input": "2024-02-13T18:34:29.420827Z",
     "iopub.status.busy": "2024-02-13T18:34:29.419365Z",
     "iopub.status.idle": "2024-02-13T18:34:29.458911Z",
     "shell.execute_reply": "2024-02-13T18:34:29.457630Z"
    },
    "papermill": {
     "duration": 0.072947,
     "end_time": "2024-02-13T18:34:29.461520",
     "exception": false,
     "start_time": "2024-02-13T18:34:29.388573",
     "status": "completed"
    },
    "tags": []
   },
   "outputs": [
    {
     "data": {
      "text/html": [
       "<div>\n",
       "<style scoped>\n",
       "    .dataframe tbody tr th:only-of-type {\n",
       "        vertical-align: middle;\n",
       "    }\n",
       "\n",
       "    .dataframe tbody tr th {\n",
       "        vertical-align: top;\n",
       "    }\n",
       "\n",
       "    .dataframe thead th {\n",
       "        text-align: right;\n",
       "    }\n",
       "</style>\n",
       "<table border=\"1\" class=\"dataframe\">\n",
       "  <thead>\n",
       "    <tr style=\"text-align: right;\">\n",
       "      <th></th>\n",
       "      <th>Pclass</th>\n",
       "      <th>SibSp</th>\n",
       "      <th>Parch</th>\n",
       "      <th>Predicted_age</th>\n",
       "      <th>Ticket_num</th>\n",
       "      <th>Ticket_class</th>\n",
       "      <th>Fare_group</th>\n",
       "      <th>Title</th>\n",
       "      <th>Sex_female</th>\n",
       "      <th>Sex_male</th>\n",
       "      <th>...</th>\n",
       "      <th>Cabin_class_H</th>\n",
       "      <th>Cabin_class_L</th>\n",
       "      <th>Cabin_class_M</th>\n",
       "      <th>Prestige_G0</th>\n",
       "      <th>Prestige_G1</th>\n",
       "      <th>Prestige_G2</th>\n",
       "      <th>Prestige_G3</th>\n",
       "      <th>Group_size</th>\n",
       "      <th>Family_bin</th>\n",
       "      <th>Age_group</th>\n",
       "    </tr>\n",
       "  </thead>\n",
       "  <tbody>\n",
       "    <tr>\n",
       "      <th>0</th>\n",
       "      <td>3</td>\n",
       "      <td>0</td>\n",
       "      <td>0</td>\n",
       "      <td>True</td>\n",
       "      <td>0.0</td>\n",
       "      <td>6</td>\n",
       "      <td>1.0</td>\n",
       "      <td>5</td>\n",
       "      <td>False</td>\n",
       "      <td>True</td>\n",
       "      <td>...</td>\n",
       "      <td>False</td>\n",
       "      <td>True</td>\n",
       "      <td>False</td>\n",
       "      <td>True</td>\n",
       "      <td>False</td>\n",
       "      <td>False</td>\n",
       "      <td>False</td>\n",
       "      <td>296</td>\n",
       "      <td>1.0</td>\n",
       "      <td>2.0</td>\n",
       "    </tr>\n",
       "    <tr>\n",
       "      <th>1</th>\n",
       "      <td>3</td>\n",
       "      <td>1</td>\n",
       "      <td>0</td>\n",
       "      <td>False</td>\n",
       "      <td>0.0</td>\n",
       "      <td>6</td>\n",
       "      <td>1.0</td>\n",
       "      <td>6</td>\n",
       "      <td>True</td>\n",
       "      <td>False</td>\n",
       "      <td>...</td>\n",
       "      <td>False</td>\n",
       "      <td>True</td>\n",
       "      <td>False</td>\n",
       "      <td>False</td>\n",
       "      <td>False</td>\n",
       "      <td>True</td>\n",
       "      <td>False</td>\n",
       "      <td>296</td>\n",
       "      <td>1.0</td>\n",
       "      <td>2.0</td>\n",
       "    </tr>\n",
       "  </tbody>\n",
       "</table>\n",
       "<p>2 rows × 23 columns</p>\n",
       "</div>"
      ],
      "text/plain": [
       "   Pclass  SibSp  Parch  Predicted_age  Ticket_num  Ticket_class  Fare_group  \\\n",
       "0       3      0      0           True         0.0             6         1.0   \n",
       "1       3      1      0          False         0.0             6         1.0   \n",
       "\n",
       "   Title  Sex_female  Sex_male  ...  Cabin_class_H  Cabin_class_L  \\\n",
       "0      5       False      True  ...          False           True   \n",
       "1      6        True     False  ...          False           True   \n",
       "\n",
       "   Cabin_class_M  Prestige_G0  Prestige_G1  Prestige_G2  Prestige_G3  \\\n",
       "0          False         True        False        False        False   \n",
       "1          False        False        False         True        False   \n",
       "\n",
       "   Group_size  Family_bin  Age_group  \n",
       "0         296         1.0        2.0  \n",
       "1         296         1.0        2.0  \n",
       "\n",
       "[2 rows x 23 columns]"
      ]
     },
     "execution_count": 22,
     "metadata": {},
     "output_type": "execute_result"
    }
   ],
   "source": [
    "\n",
    "# Define age bins\n",
    "age_bins = [0, 15, 65, 90]  # Adjust the bins according to your preference\n",
    "\n",
    "# Create a new column with age groups\n",
    "#train_df_encoded['Age_group'] = pd.cut(train_df_encoded['Age'], bins=age_bins)\n",
    "\n",
    "# Calculate the survival rate within each age group\n",
    "#age_survival_rate = train_df_encoded.groupby('Age_group')['Survived'].mean().reset_index()\n",
    "\n",
    "#print(age_survival_rate)\n",
    "\n",
    "train_df_encoded.head(2)\n",
    "\n",
    "def set_age_group(df):\n",
    "    df.loc[(df['Age'] > 0) & (df['Age']<=15), 'Age_group'] = 1\n",
    "    df.loc[(df['Age'] > 15) & (df['Age']<=65), 'Age_group'] = 2\n",
    "    df.loc[(df['Age'] > 65), 'Age_group'] = 3\n",
    "\n",
    "\n",
    "set_age_group(train_df_encoded)\n",
    "set_age_group(test_df_encoded)\n",
    "\n",
    "#Since we engineered the Age to groups, we no longer need it:\n",
    "train_df_encoded.drop(['Age'], axis=1, inplace=True)\n",
    "test_df_encoded.drop(['Age'], axis=1, inplace=True)\n",
    "\n",
    "test_df_encoded.head(2)"
   ]
  },
  {
   "cell_type": "code",
   "execution_count": 23,
   "id": "dbf07b0d",
   "metadata": {
    "execution": {
     "iopub.execute_input": "2024-02-13T18:34:29.525433Z",
     "iopub.status.busy": "2024-02-13T18:34:29.524935Z",
     "iopub.status.idle": "2024-02-13T18:34:29.539945Z",
     "shell.execute_reply": "2024-02-13T18:34:29.538484Z"
    },
    "papermill": {
     "duration": 0.050015,
     "end_time": "2024-02-13T18:34:29.542216",
     "exception": false,
     "start_time": "2024-02-13T18:34:29.492201",
     "status": "completed"
    },
    "tags": []
   },
   "outputs": [],
   "source": [
    "# Dropping features we no longer need due to above feature engineering:\n",
    "train_df_encoded.drop(['Sex_female'], axis=1, inplace=True)\n",
    "test_df_encoded.drop(['Sex_female'], axis=1, inplace=True)\n",
    "\n",
    "train_df_encoded.drop(['Sex_male'], axis=1, inplace=True)\n",
    "test_df_encoded.drop(['Sex_male'], axis=1, inplace=True)\n",
    "\n",
    "\n",
    "train_df_encoded.drop(['Title'], axis=1, inplace=True)\n",
    "test_df_encoded.drop(['Title'], axis=1, inplace=True)\n",
    "\n",
    "#train_df_encoded.drop(['Cabin_class_0'], axis=1, inplace=True)\n",
    "#test_df_encoded.drop(['Cabin_class_0'], axis=1, inplace=True)\n",
    "\n"
   ]
  },
  {
   "cell_type": "code",
   "execution_count": 24,
   "id": "049e03d9",
   "metadata": {
    "execution": {
     "iopub.execute_input": "2024-02-13T18:34:29.605917Z",
     "iopub.status.busy": "2024-02-13T18:34:29.604426Z",
     "iopub.status.idle": "2024-02-13T18:34:31.045646Z",
     "shell.execute_reply": "2024-02-13T18:34:31.043973Z"
    },
    "papermill": {
     "duration": 1.477091,
     "end_time": "2024-02-13T18:34:31.050344",
     "exception": false,
     "start_time": "2024-02-13T18:34:29.573253",
     "status": "completed"
    },
    "tags": []
   },
   "outputs": [
    {
     "data": {
      "image/png": "[encoded data removed]",
      "text/plain": [
       "<Figure size 1000x800 with 1 Axes>"
      ]
     },
     "metadata": {},
     "output_type": "display_data"
    }
   ],
   "source": [
    "# we saw that one of the most important features for xgb is age. But we have tons of missing ages.\n",
    "# How to set missing ages? basically Xgboost should be robust to that, and \n",
    "# predict by itself, but I'm curious to see if setting ages according to medians\n",
    "# grouped by the highly correlated feature of age will help. \n",
    "# so let's look for feature to feature correlation. \n",
    "train_correlation_matrix = train_df_encoded.corr()\n",
    "test_correlation_matrix = test_df_encoded.corr()\n",
    "\n",
    "# Set up the matplotlib figure\n",
    "plt.figure(figsize=(10, 8))\n",
    "\n",
    "# Create a heatmap with custom formatting for annot\n",
    "sns.heatmap(train_correlation_matrix, annot=True, cmap='coolwarm', fmt=\".2f\", linewidths=.5, cbar=False)\n",
    "\n",
    "# Remove axis labels for a cleaner look\n",
    "plt.xlabel('')\n",
    "plt.ylabel('')\n",
    "\n",
    "# Display the plot\n",
    "plt.show()"
   ]
  },
  {
   "cell_type": "markdown",
   "id": "b27f7909",
   "metadata": {
    "papermill": {
     "duration": 0.036358,
     "end_time": "2024-02-13T18:34:31.121365",
     "exception": false,
     "start_time": "2024-02-13T18:34:31.085007",
     "status": "completed"
    },
    "tags": []
   },
   "source": [
    "Split to depndant and independant "
   ]
  },
  {
   "cell_type": "code",
   "execution_count": 25,
   "id": "f1e30286",
   "metadata": {
    "execution": {
     "iopub.execute_input": "2024-02-13T18:34:31.194102Z",
     "iopub.status.busy": "2024-02-13T18:34:31.193645Z",
     "iopub.status.idle": "2024-02-13T18:34:31.201588Z",
     "shell.execute_reply": "2024-02-13T18:34:31.200662Z"
    },
    "papermill": {
     "duration": 0.047452,
     "end_time": "2024-02-13T18:34:31.203891",
     "exception": false,
     "start_time": "2024-02-13T18:34:31.156439",
     "status": "completed"
    },
    "tags": []
   },
   "outputs": [],
   "source": [
    "X = train_df_encoded.drop(['Survived'], axis=1).copy()\n",
    "#print(X.head())\n",
    "y = train_df_encoded['Survived'].copy()\n",
    "#y.head()"
   ]
  },
  {
   "cell_type": "markdown",
   "id": "544a2678",
   "metadata": {
    "papermill": {
     "duration": 0.034133,
     "end_time": "2024-02-13T18:34:31.273031",
     "exception": false,
     "start_time": "2024-02-13T18:34:31.238898",
     "status": "completed"
    },
    "tags": []
   },
   "source": [
    "Split the data to train and validation:"
   ]
  },
  {
   "cell_type": "code",
   "execution_count": 26,
   "id": "44ea1326",
   "metadata": {
    "execution": {
     "iopub.execute_input": "2024-02-13T18:34:31.346330Z",
     "iopub.status.busy": "2024-02-13T18:34:31.345885Z",
     "iopub.status.idle": "2024-02-13T18:34:31.484228Z",
     "shell.execute_reply": "2024-02-13T18:34:31.482725Z"
    },
    "papermill": {
     "duration": 0.178304,
     "end_time": "2024-02-13T18:34:31.487199",
     "exception": false,
     "start_time": "2024-02-13T18:34:31.308895",
     "status": "completed"
    },
    "tags": []
   },
   "outputs": [],
   "source": [
    "from sklearn.model_selection import train_test_split\n",
    "\n",
    "X_train, X_val, y_train, y_val = \\\n",
    "    train_test_split(X, y, test_size=0.2, random_state=42, stratify=y)\n"
   ]
  },
  {
   "cell_type": "code",
   "execution_count": 27,
   "id": "ff97c338",
   "metadata": {
    "execution": {
     "iopub.execute_input": "2024-02-13T18:34:31.559033Z",
     "iopub.status.busy": "2024-02-13T18:34:31.558644Z",
     "iopub.status.idle": "2024-02-13T18:34:31.566634Z",
     "shell.execute_reply": "2024-02-13T18:34:31.565035Z"
    },
    "papermill": {
     "duration": 0.046889,
     "end_time": "2024-02-13T18:34:31.568947",
     "exception": false,
     "start_time": "2024-02-13T18:34:31.522058",
     "status": "completed"
    },
    "tags": []
   },
   "outputs": [
    {
     "name": "stdout",
     "output_type": "stream",
     "text": [
      "0.38342696629213485\n",
      "0.3854748603351955\n",
      "length of train: 712\n",
      "length of train: 179\n"
     ]
    }
   ],
   "source": [
    "# verify we stratified by y properly:\n",
    "print(sum(y_train)/len(y_train))\n",
    "print(sum(y_val)/len(y_val))\n",
    "\n",
    "print(\"length of train:\", len(X_train))\n",
    "print(\"length of train:\", len(X_val))\n",
    "\n"
   ]
  },
  {
   "cell_type": "markdown",
   "id": "1354b105",
   "metadata": {
    "papermill": {
     "duration": 0.034478,
     "end_time": "2024-02-13T18:34:31.638458",
     "exception": false,
     "start_time": "2024-02-13T18:34:31.603980",
     "status": "completed"
    },
    "tags": []
   },
   "source": [
    "# Training a model \n",
    "\n",
    "Yayy!! we are done with pre-processing, now we can build the model!\n",
    "\n",
    "\n",
    "Let's build an XGBoost model:"
   ]
  },
  {
   "cell_type": "code",
   "execution_count": 28,
   "id": "90e08770",
   "metadata": {
    "execution": {
     "iopub.execute_input": "2024-02-13T18:34:31.710402Z",
     "iopub.status.busy": "2024-02-13T18:34:31.709825Z",
     "iopub.status.idle": "2024-02-13T18:34:35.342039Z",
     "shell.execute_reply": "2024-02-13T18:34:35.340906Z"
    },
    "papermill": {
     "duration": 3.671904,
     "end_time": "2024-02-13T18:34:35.345281",
     "exception": false,
     "start_time": "2024-02-13T18:34:31.673377",
     "status": "completed"
    },
    "tags": []
   },
   "outputs": [],
   "source": [
    "import matplotlib.pyplot as plt\n",
    "import seaborn as sns\n",
    "from sklearn.preprocessing import LabelEncoder\n",
    "from sklearn.preprocessing import MinMaxScaler\n",
    "from sklearn.model_selection import train_test_split\n",
    "from sklearn.model_selection import GridSearchCV\n",
    "from sklearn.model_selection import StratifiedKFold\n",
    "from sklearn.model_selection import cross_validate\n",
    "from sklearn.metrics import accuracy_score\n",
    "from sklearn.metrics import make_scorer\n",
    "from sklearn.metrics import confusion_matrix,classification_report\n",
    "from sklearn.metrics import balanced_accuracy_score, precision_score, recall_score, f1_score\n",
    "import optuna\n",
    "from optuna.samplers import TPESampler\n",
    "import xgboost as xgb\n",
    "from sklearn.ensemble import RandomForestClassifier\n",
    "from lightgbm import LGBMClassifier"
   ]
  },
  {
   "cell_type": "code",
   "execution_count": 29,
   "id": "8ece219a",
   "metadata": {
    "execution": {
     "iopub.execute_input": "2024-02-13T18:34:35.420345Z",
     "iopub.status.busy": "2024-02-13T18:34:35.419796Z",
     "iopub.status.idle": "2024-02-13T18:34:35.426712Z",
     "shell.execute_reply": "2024-02-13T18:34:35.425387Z"
    },
    "papermill": {
     "duration": 0.048709,
     "end_time": "2024-02-13T18:34:35.429574",
     "exception": false,
     "start_time": "2024-02-13T18:34:35.380865",
     "status": "completed"
    },
    "tags": []
   },
   "outputs": [],
   "source": [
    "scorer = make_scorer(accuracy_score)\n",
    "cv = StratifiedKFold(5, shuffle=True, random_state=1)\n",
    "cv_splits = cv.split(X_train, y=y_train)"
   ]
  },
  {
   "cell_type": "code",
   "execution_count": 30,
   "id": "ac325b55",
   "metadata": {
    "execution": {
     "iopub.execute_input": "2024-02-13T18:34:35.506018Z",
     "iopub.status.busy": "2024-02-13T18:34:35.505297Z",
     "iopub.status.idle": "2024-02-13T18:34:35.521772Z",
     "shell.execute_reply": "2024-02-13T18:34:35.520895Z"
    },
    "papermill": {
     "duration": 0.057812,
     "end_time": "2024-02-13T18:34:35.524169",
     "exception": false,
     "start_time": "2024-02-13T18:34:35.466357",
     "status": "completed"
    },
    "tags": []
   },
   "outputs": [
    {
     "data": {
      "text/plain": [
       "'\\nstudy_name = \"multi_class_prediction_of_obesity_risk\"\\nstudy = optuna.create_study(study_name=study_name, \\n                            #sampler=TPESampler(n_startup_trials=30, multivariate=True, seed=42),\\n                            direction=\"maximize\", \\n                            load_if_exists=True)\\n\\nstudy.optimize(objective, n_trials=300)\\nprint(study.best_value)\\nprint(study.best_params)\\n'"
      ]
     },
     "execution_count": 30,
     "metadata": {},
     "output_type": "execute_result"
    }
   ],
   "source": [
    "def objective(trial):\n",
    "    \n",
    "    \n",
    "    params = {\n",
    "        'n_estimators': trial.suggest_int('n_estimators', 100, 650),\n",
    "        'eta': trial.suggest_float('eta', 0.01, 1.0, log=True),\n",
    "        'gamma' : trial.suggest_float('gamma', 1e-5, 1.1),\n",
    "        'subsample': trial.suggest_float('subsample', 0.5, 1.0),\n",
    "        'colsample_bytree': trial.suggest_float('colsample_bytree', 0.3, 1.0),\n",
    "        'max_depth': trial.suggest_int('max_depth', 2, 30),\n",
    "        'min_child_weight': trial.suggest_int('min_child_weight', 3, 35),\n",
    "        'reg_lambda': trial.suggest_float('reg_lambda', 1e-9, 100.0, log=True),\n",
    "        'reg_alpha': trial.suggest_float('reg_alpha', 1e-9, 100.0, log=True)\n",
    "    }\n",
    "    \n",
    "    \n",
    "    params['objective'] = \"binary:logistic\"\n",
    "    #params['device'] = \"cuda\"\n",
    "    params['verbosity'] = 0\n",
    "    #params['num_class'] = N_CLASSES\n",
    "    params['seed'] = 1512\n",
    "    \n",
    "    \n",
    "    xgb_optuna = xgb.XGBClassifier(**params)\n",
    "    cv_splits = cv.split(X_train, y=y_train)\n",
    "    cv_scores = cross_validate(estimator=xgb_optuna, \n",
    "                               X=X_train, \n",
    "                               y=y_train,\n",
    "                               scoring=scorer,\n",
    "                               cv=cv_splits, \n",
    "                               return_train_score=True)\n",
    "    \n",
    "    # control overfitting by minimizing the diff between train and test accuracies. \n",
    "    cv_evaluation = np.mean(np.abs(cv_scores['test_score'] - cv_scores['train_score']))\n",
    "    print(\"train/test diff: \", cv_evaluation)\n",
    "    print(np.mean(np.abs(cv_scores['test_score'])))\n",
    "    # maximize accuracy\n",
    "    #cv_evaluation += 1/np.mean(np.abs(cv_scores['test_score']))\n",
    "    cv_evaluation  = np.mean(np.abs(cv_scores['test_score']))\n",
    "    \n",
    "    return cv_evaluation\n",
    "\n",
    "'''\n",
    "study_name = \"multi_class_prediction_of_obesity_risk\"\n",
    "study = optuna.create_study(study_name=study_name, \n",
    "                            #sampler=TPESampler(n_startup_trials=30, multivariate=True, seed=42),\n",
    "                            direction=\"maximize\", \n",
    "                            load_if_exists=True)\n",
    "\n",
    "study.optimize(objective, n_trials=300)\n",
    "print(study.best_value)\n",
    "print(study.best_params)\n",
    "'''"
   ]
  },
  {
   "cell_type": "markdown",
   "id": "54a13abb",
   "metadata": {
    "papermill": {
     "duration": 0.035862,
     "end_time": "2024-02-13T18:34:35.596248",
     "exception": false,
     "start_time": "2024-02-13T18:34:35.560386",
     "status": "completed"
    },
    "tags": []
   },
   "source": [
    "Trial 98 finished with value: 0.8428403755868545 and parameters: {'n_estimators': 257, 'eta': 0.0516575504569829, 'gamma': 0.023927167015987745, 'subsample': 0.8934711404294005, 'colsample_bytree': 0.7577954937380449, 'max_depth': 21, 'min_child_weight': 4, 'reg_lambda': 3.5788721977552127, 'reg_alpha': 4.130991493371961e-06}. Best is trial 98 with value: 0.8428403755868545.\n",
    "train/test diff:  0.05383399297239495\n",
    "0.8428403755868545\n",
    "\n",
    "Trial 259 finished with value: 0.8427656850192061 and parameters: {'n_estimators': 121, 'eta': 0.01282862075620006, 'gamma': 0.928899084132602, 'subsample': 0.7891851731343368, 'colsample_bytree': 0.5278159046752617, 'max_depth': 22, 'min_child_weight': 4, 'reg_lambda': 2.5832192244210846e-08, 'reg_alpha': 0.001965548245244985}. Best is trial 259 with value: 0.8427656850192061.\n",
    "train/test diff:  0.042725191566838225\n",
    "0.8427656850192061"
   ]
  },
  {
   "cell_type": "code",
   "execution_count": 31,
   "id": "a17ad37c",
   "metadata": {
    "execution": {
     "iopub.execute_input": "2024-02-13T18:34:35.670976Z",
     "iopub.status.busy": "2024-02-13T18:34:35.670272Z",
     "iopub.status.idle": "2024-02-13T18:34:35.941382Z",
     "shell.execute_reply": "2024-02-13T18:34:35.940381Z"
    },
    "papermill": {
     "duration": 0.311591,
     "end_time": "2024-02-13T18:34:35.944150",
     "exception": false,
     "start_time": "2024-02-13T18:34:35.632559",
     "status": "completed"
    },
    "tags": []
   },
   "outputs": [
    {
     "name": "stdout",
     "output_type": "stream",
     "text": [
      "Total Val Accuracy: 82.12%\n",
      "Total Train Accuracy: 84.27%\n"
     ]
    }
   ],
   "source": [
    "xgb_best_params = {'n_estimators': 121, 'eta': 0.01282862075620006, \n",
    "                   'gamma': 0.928899084132602, 'subsample': 0.7891851731343368, \n",
    "                   'colsample_bytree': 0.5278159046752617, 'max_depth': 22, 'min_child_weight': 4, \n",
    "                   'reg_lambda': 2.5832192244210846e-08, 'reg_alpha': 0.001965548245244985}\n",
    "\n",
    "\n",
    "xgb_best_params['objective'] = \"binary:logistic\"\n",
    "#xgb_best_params['device'] = \"cuda\"\n",
    "xgb_best_params['verbosity'] = 0\n",
    "#xgb_best_params['num_class'] = N_CLASSES\n",
    "xgb_best_params['seed'] = 1512\n",
    "#xgb_best_params['eval_metric'] = ['merror', 'mlogloss']\n",
    "\n",
    "best_xgb = xgb.XGBClassifier(**xgb_best_params)\n",
    "best_xgb.fit(X_train, \n",
    "             y_train, \n",
    "             verbose=False,\n",
    "             eval_set=[(X_train, y_train), (X_val, y_val)])\n",
    "\n",
    "# Make predictions on the validation set\n",
    "best_xgb_y_val = best_xgb.predict(X_val)\n",
    "\n",
    "# Make predictions on the train set\n",
    "best_xgb_y_train = best_xgb.predict(X_train)\n",
    "\n",
    "# Calculate accuracy\n",
    "accuracy = accuracy_score(y_val, best_xgb_y_val)\n",
    "print(f'Total Val Accuracy: {accuracy * 100:.2f}%')\n",
    "\n",
    "# Calculate accuracy\n",
    "accuracy = accuracy_score(y_train, best_xgb_y_train)\n",
    "print(f'Total Train Accuracy: {accuracy * 100:.2f}%')"
   ]
  },
  {
   "cell_type": "code",
   "execution_count": 32,
   "id": "c779e48e",
   "metadata": {
    "execution": {
     "iopub.execute_input": "2024-02-13T18:34:36.022875Z",
     "iopub.status.busy": "2024-02-13T18:34:36.022400Z",
     "iopub.status.idle": "2024-02-13T18:34:36.497486Z",
     "shell.execute_reply": "2024-02-13T18:34:36.495961Z"
    },
    "papermill": {
     "duration": 0.518004,
     "end_time": "2024-02-13T18:34:36.500752",
     "exception": false,
     "start_time": "2024-02-13T18:34:35.982748",
     "status": "completed"
    },
    "tags": []
   },
   "outputs": [
    {
     "data": {
      "image/png": "[encoded data removed]",
      "text/plain": [
       "<Figure size 640x480 with 1 Axes>"
      ]
     },
     "metadata": {},
     "output_type": "display_data"
    }
   ],
   "source": [
    "# print important features:\n",
    "xgb.plot_importance(best_xgb, importance_type='weight')\n",
    "plt.show()\n"
   ]
  },
  {
   "cell_type": "code",
   "execution_count": 33,
   "id": "dfb92126",
   "metadata": {
    "execution": {
     "iopub.execute_input": "2024-02-13T18:34:36.577856Z",
     "iopub.status.busy": "2024-02-13T18:34:36.577352Z",
     "iopub.status.idle": "2024-02-13T18:34:36.806537Z",
     "shell.execute_reply": "2024-02-13T18:34:36.805103Z"
    },
    "papermill": {
     "duration": 0.271448,
     "end_time": "2024-02-13T18:34:36.809391",
     "exception": false,
     "start_time": "2024-02-13T18:34:36.537943",
     "status": "completed"
    },
    "tags": []
   },
   "outputs": [
    {
     "name": "stdout",
     "output_type": "stream",
     "text": [
      "\n",
      "------------------ Confusion Matrix -----------------\n",
      "\n"
     ]
    },
    {
     "data": {
      "image/png": "[encoded data removed]",
      "text/plain": [
       "<Figure size 400x200 with 1 Axes>"
      ]
     },
     "metadata": {},
     "output_type": "display_data"
    },
    {
     "name": "stdout",
     "output_type": "stream",
     "text": [
      "\n",
      "-------------------- Key Metrics --------------------\n",
      "\n",
      "Accuracy: 0.82\n",
      "Balanced Accuracy: 0.79\n",
      "\n",
      "Micro Precision: 0.82\n",
      "Micro Recall: 0.82\n",
      "Micro F1-score: 0.82\n",
      "\n",
      "Macro Precision: 0.83\n",
      "Macro Recall: 0.79\n",
      "Macro F1-score: 0.80\n",
      "\n",
      "Weighted Precision: 0.82\n",
      "Weighted Recall: 0.82\n",
      "Weighted F1-score: 0.82\n",
      "\n",
      "--------------- Classification Report ---------------\n",
      "\n",
      "              precision    recall  f1-score   support\n",
      "\n",
      "           0       0.81      0.93      0.86       110\n",
      "           1       0.85      0.65      0.74        69\n",
      "\n",
      "    accuracy                           0.82       179\n",
      "   macro avg       0.83      0.79      0.80       179\n",
      "weighted avg       0.82      0.82      0.82       179\n",
      "\n",
      "---------------------- XGBoost ----------------------\n"
     ]
    }
   ],
   "source": [
    "print('\\n------------------ Confusion Matrix -----------------\\n')\n",
    "# Compute confusion matrix\n",
    "cm = confusion_matrix(y_val, best_xgb_y_val)\n",
    "\n",
    "# Plot confusion matrix using seaborn\n",
    "plt.figure(figsize=(4, 2))\n",
    "sns.heatmap(cm, annot=True, fmt='d', cmap='Blues', cbar=False)\n",
    "plt.title('Confusion Matrix')\n",
    "plt.xlabel('Predicted')\n",
    "plt.ylabel('Actual')\n",
    "plt.show()\n",
    "\n",
    "print('\\n-------------------- Key Metrics --------------------')\n",
    "print('\\nAccuracy: {:.2f}'.format(accuracy_score(y_val, best_xgb_y_val)))\n",
    "print('Balanced Accuracy: {:.2f}\\n'.format(balanced_accuracy_score(y_val, best_xgb_y_val)))\n",
    "\n",
    "print('Micro Precision: {:.2f}'.format(precision_score(y_val, best_xgb_y_val, average='micro')))\n",
    "print('Micro Recall: {:.2f}'.format(recall_score(y_val, best_xgb_y_val, average='micro')))\n",
    "print('Micro F1-score: {:.2f}\\n'.format(f1_score(y_val, best_xgb_y_val, average='micro')))\n",
    "\n",
    "print('Macro Precision: {:.2f}'.format(precision_score(y_val, best_xgb_y_val, average='macro')))\n",
    "print('Macro Recall: {:.2f}'.format(recall_score(y_val, best_xgb_y_val, average='macro')))\n",
    "print('Macro F1-score: {:.2f}\\n'.format(f1_score(y_val, best_xgb_y_val, average='macro')))\n",
    "\n",
    "print('Weighted Precision: {:.2f}'.format(precision_score(y_val, best_xgb_y_val, average='weighted')))\n",
    "print('Weighted Recall: {:.2f}'.format(recall_score(y_val, best_xgb_y_val, average='weighted')))\n",
    "print('Weighted F1-score: {:.2f}'.format(f1_score(y_val, best_xgb_y_val, average='weighted')))\n",
    "\n",
    "print('\\n--------------- Classification Report ---------------\\n')\n",
    "print(classification_report(y_val, best_xgb_y_val))\n",
    "print('---------------------- XGBoost ----------------------') # unnecessary fancy styling"
   ]
  },
  {
   "cell_type": "code",
   "execution_count": 34,
   "id": "cd4c0b9e",
   "metadata": {
    "execution": {
     "iopub.execute_input": "2024-02-13T18:34:36.887388Z",
     "iopub.status.busy": "2024-02-13T18:34:36.886833Z",
     "iopub.status.idle": "2024-02-13T18:34:36.903085Z",
     "shell.execute_reply": "2024-02-13T18:34:36.901542Z"
    },
    "papermill": {
     "duration": 0.058613,
     "end_time": "2024-02-13T18:34:36.905783",
     "exception": false,
     "start_time": "2024-02-13T18:34:36.847170",
     "status": "completed"
    },
    "tags": []
   },
   "outputs": [
    {
     "data": {
      "text/plain": [
       "'\\nrf_study_name = \"rf_multi_class_prediction_of_obesity_risk\"\\nstudy = optuna.create_study(study_name=rf_study_name, \\n                            sampler=TPESampler(n_startup_trials=30, multivariate=True, seed=42),\\n                            direction=\"maximize\", \\n                            load_if_exists=True)\\n\\nstudy.optimize(rf_objective, n_trials=300)\\nprint(study.best_value)\\nprint(study.best_params)\\n'"
      ]
     },
     "execution_count": 34,
     "metadata": {},
     "output_type": "execute_result"
    }
   ],
   "source": [
    "def rf_objective(trial):\n",
    "    \n",
    "    rf_params = {\n",
    "        'max_depth': trial.suggest_int('max_depth', 3, 30),\n",
    "        'min_samples_leaf': trial.suggest_int('min_samples_leaf', 2, 30),\n",
    "        'min_samples_split': trial.suggest_int('min_samples_split', 2, 30),\n",
    "        'max_features': trial.suggest_categorical('max_features', ['log2', 'sqrt', None]),\n",
    "        'n_estimators': trial.suggest_int('n_estimators', 50, 500)\n",
    "    }\n",
    "    \n",
    "    rf_params['verbose'] = 0\n",
    "    rf_params['random_state'] = 1512\n",
    "    \n",
    "    rf_optuna = RandomForestClassifier(**rf_params)\n",
    "    cv_splits = cv.split(X_train, y=y_train)\n",
    "    cv_scores = cross_validate(estimator=rf_optuna, \n",
    "                               X=X_train, \n",
    "                               y=y_train,\n",
    "                               scoring=scorer,\n",
    "                               cv=cv_splits, \n",
    "                               return_train_score=True)\n",
    "\n",
    "    # control overfitting by minimizing the diff between train and test accuracies. \n",
    "    cv_evaluation = np.mean(np.abs(cv_scores['test_score'] - cv_scores['train_score']))\n",
    "    print(\"diff:\", cv_evaluation)\n",
    "    #if cv_evaluation < 1.5:\n",
    "    #    cv_evaluation = 0\n",
    "    #print(np.mean(np.abs(cv_scores['test_score'])))\n",
    "    # maximize accuracy\n",
    "    #cv_evaluation += 1/np.mean(np.abs(cv_scores['test_score']))\n",
    "    cv_evaluation  = np.mean(np.abs(cv_scores['test_score']))\n",
    "    return cv_evaluation\n",
    "\n",
    "'''\n",
    "rf_study_name = \"rf_multi_class_prediction_of_obesity_risk\"\n",
    "study = optuna.create_study(study_name=rf_study_name, \n",
    "                            sampler=TPESampler(n_startup_trials=30, multivariate=True, seed=42),\n",
    "                            direction=\"maximize\", \n",
    "                            load_if_exists=True)\n",
    "\n",
    "study.optimize(rf_objective, n_trials=300)\n",
    "print(study.best_value)\n",
    "print(study.best_params)\n",
    "'''"
   ]
  },
  {
   "cell_type": "markdown",
   "id": "6fbbad25",
   "metadata": {
    "papermill": {
     "duration": 0.037513,
     "end_time": "2024-02-13T18:34:36.982597",
     "exception": false,
     "start_time": "2024-02-13T18:34:36.945084",
     "status": "completed"
    },
    "tags": []
   },
   "source": [
    "Trial 294 finished with value: 0.8371417315079286 and parameters: {'max_depth': 8, 'min_samples_leaf': 2, 'min_samples_split': 30, 'max_features': None, 'n_estimators': 140}. Best is trial 294 with value: 0.8371417315079286.\n",
    "diff: 0.035375123390772555"
   ]
  },
  {
   "cell_type": "code",
   "execution_count": 35,
   "id": "91178e09",
   "metadata": {
    "execution": {
     "iopub.execute_input": "2024-02-13T18:34:37.059804Z",
     "iopub.status.busy": "2024-02-13T18:34:37.058566Z",
     "iopub.status.idle": "2024-02-13T18:34:37.521329Z",
     "shell.execute_reply": "2024-02-13T18:34:37.520121Z"
    },
    "papermill": {
     "duration": 0.50474,
     "end_time": "2024-02-13T18:34:37.524406",
     "exception": false,
     "start_time": "2024-02-13T18:34:37.019666",
     "status": "completed"
    },
    "tags": []
   },
   "outputs": [
    {
     "name": "stdout",
     "output_type": "stream",
     "text": [
      "Total Val Accuracy: 83.24%\n",
      "Total Train Accuracy: 85.39%\n"
     ]
    }
   ],
   "source": [
    "rf_best_params = {'max_depth': 8, \n",
    "                  'min_samples_leaf': 2, \n",
    "                  'min_samples_split': 30, 'max_features': None, 'n_estimators': 140}\n",
    "\n",
    "rf_best_params['verbose'] = 0\n",
    "rf_best_params['random_state'] = 1512\n",
    "\n",
    "best_rf = RandomForestClassifier(**rf_best_params)\n",
    "best_rf.fit(X_train, y_train)\n",
    "\n",
    "# Make predictions on the validation set\n",
    "best_rf_y_val = best_rf.predict(X_val)\n",
    "\n",
    "# Make predictions on the train set\n",
    "best_rf_y_train = best_rf.predict(X_train)\n",
    "\n",
    "# Calculate accuracy\n",
    "accuracy = accuracy_score(y_val, best_rf_y_val)\n",
    "print(f'Total Val Accuracy: {accuracy * 100:.2f}%')\n",
    "\n",
    "# Calculate accuracy\n",
    "accuracy = accuracy_score(y_train, best_rf_y_train)\n",
    "print(f'Total Train Accuracy: {accuracy * 100:.2f}%')"
   ]
  },
  {
   "cell_type": "code",
   "execution_count": 36,
   "id": "38a42931",
   "metadata": {
    "execution": {
     "iopub.execute_input": "2024-02-13T18:34:37.603442Z",
     "iopub.status.busy": "2024-02-13T18:34:37.602910Z",
     "iopub.status.idle": "2024-02-13T18:34:38.280915Z",
     "shell.execute_reply": "2024-02-13T18:34:38.279575Z"
    },
    "papermill": {
     "duration": 0.721166,
     "end_time": "2024-02-13T18:34:38.283870",
     "exception": false,
     "start_time": "2024-02-13T18:34:37.562704",
     "status": "completed"
    },
    "tags": []
   },
   "outputs": [
    {
     "data": {
      "image/png": "[encoded data removed]",
      "text/plain": [
       "<Figure size 640x480 with 1 Axes>"
      ]
     },
     "metadata": {},
     "output_type": "display_data"
    }
   ],
   "source": [
    "feature_names = X.columns.tolist()\n",
    "rf_importances = best_rf.feature_importances_\n",
    "std = np.std([tree.feature_importances_ for tree in best_rf.estimators_], axis=0)\n",
    "forest_importances = pd.Series(rf_importances, index=feature_names)\n",
    "\n",
    "fig, ax = plt.subplots()\n",
    "forest_importances.plot.bar(yerr=std, ax=ax)\n",
    "ax.set_title(\"Random Forest Feature Importances\")\n",
    "ax.set_ylabel(\"Mean decrease in impurity\")\n",
    "fig.tight_layout()"
   ]
  },
  {
   "cell_type": "code",
   "execution_count": 37,
   "id": "d2f95f4a",
   "metadata": {
    "execution": {
     "iopub.execute_input": "2024-02-13T18:34:38.363022Z",
     "iopub.status.busy": "2024-02-13T18:34:38.362566Z",
     "iopub.status.idle": "2024-02-13T18:34:38.380280Z",
     "shell.execute_reply": "2024-02-13T18:34:38.379087Z"
    },
    "papermill": {
     "duration": 0.061333,
     "end_time": "2024-02-13T18:34:38.383224",
     "exception": false,
     "start_time": "2024-02-13T18:34:38.321891",
     "status": "completed"
    },
    "tags": []
   },
   "outputs": [
    {
     "name": "stdout",
     "output_type": "stream",
     "text": [
      "\n",
      "------------------ Confusion Matrix -----------------\n",
      "\n",
      "\n",
      "--------------- Classification Report ---------------\n",
      "\n",
      "              precision    recall  f1-score   support\n",
      "\n",
      "           0       0.83      0.92      0.87       110\n",
      "           1       0.84      0.70      0.76        69\n",
      "\n",
      "    accuracy                           0.83       179\n",
      "   macro avg       0.83      0.81      0.82       179\n",
      "weighted avg       0.83      0.83      0.83       179\n",
      "\n",
      "--------------------- Random Forest ---------------------\n"
     ]
    }
   ],
   "source": [
    "print('\\n------------------ Confusion Matrix -----------------\\n')\n",
    "# Compute confusion matrix\n",
    "cm = confusion_matrix(y_val, best_rf_y_val)\n",
    "\n",
    "\n",
    "print('\\n--------------- Classification Report ---------------\\n')\n",
    "print(classification_report(y_val, best_rf_y_val))\n",
    "print('--------------------- Random Forest ---------------------') # unnecessary fancy styling"
   ]
  },
  {
   "cell_type": "code",
   "execution_count": 38,
   "id": "754c4976",
   "metadata": {
    "execution": {
     "iopub.execute_input": "2024-02-13T18:34:38.462033Z",
     "iopub.status.busy": "2024-02-13T18:34:38.461536Z",
     "iopub.status.idle": "2024-02-13T18:34:46.780739Z",
     "shell.execute_reply": "2024-02-13T18:34:46.779853Z"
    },
    "papermill": {
     "duration": 8.36212,
     "end_time": "2024-02-13T18:34:46.783475",
     "exception": false,
     "start_time": "2024-02-13T18:34:38.421355",
     "status": "completed"
    },
    "tags": []
   },
   "outputs": [],
   "source": [
    "seeds = [1512, 42, 999, 10, 357, 1, 5, 18, 14, 28, 6, 232, 99, 406]\n",
    "#seeds = [3, 42, 791, 18, 14, 28]\n",
    "xgb_seed_models = []\n",
    "rf_seed_models = []\n",
    "lgbm_seed_models = []\n",
    "\n",
    "for seed in seeds:\n",
    "    \n",
    "    ##### XGB #####\n",
    "    xgb_best_params['seed'] = seed\n",
    "    xgb_seed_model = xgb.XGBClassifier(**xgb_best_params)\n",
    "    xgb_seed_model.fit(X, y)\n",
    "    xgb_seed_models = np.append(xgb_seed_models, xgb_seed_model)\n",
    "    \n",
    "    ### Random Forest ###\n",
    "    rf_best_params['random_state'] = seed\n",
    "    rf_seed_model = RandomForestClassifier(**rf_best_params)\n",
    "    rf_seed_model.fit(X, y)\n",
    "    rf_seed_models = np.append(rf_seed_models, rf_seed_model)\n",
    "    \n",
    "    ##### LGBM #####\n",
    "    #lgbm_best_params['random_state'] = seed\n",
    "    #lgbm_seed_model = LGBMClassifier(**lgbm_best_params)\n",
    "    #lgbm_seed_model.fit(X, y)\n",
    "    #lgbm_seed_models = np.append(lgbm_seed_models, lgbm_seed_model)"
   ]
  },
  {
   "cell_type": "code",
   "execution_count": 39,
   "id": "14ac350b",
   "metadata": {
    "execution": {
     "iopub.execute_input": "2024-02-13T18:34:46.861566Z",
     "iopub.status.busy": "2024-02-13T18:34:46.861152Z",
     "iopub.status.idle": "2024-02-13T18:34:46.868866Z",
     "shell.execute_reply": "2024-02-13T18:34:46.867578Z"
    },
    "papermill": {
     "duration": 0.04992,
     "end_time": "2024-02-13T18:34:46.871528",
     "exception": false,
     "start_time": "2024-02-13T18:34:46.821608",
     "status": "completed"
    },
    "tags": []
   },
   "outputs": [],
   "source": [
    "def add_model_probabilities(model, weight, prob_train, prob_val, prob_test):\n",
    "    model_y_train = model.predict_proba(X_train.values)\n",
    "    model_y_val = model.predict_proba(X_val.values)\n",
    "    model_y_test = model.predict_proba(test_df_encoded.values)\n",
    "    \n",
    "    prob_train += weight * model_y_train\n",
    "    prob_val += weight * model_y_val\n",
    "    prob_test += weight * model_y_test\n",
    "    \n",
    "    return prob_train, prob_val, prob_test"
   ]
  },
  {
   "cell_type": "code",
   "execution_count": 40,
   "id": "b589d3ff",
   "metadata": {
    "execution": {
     "iopub.execute_input": "2024-02-13T18:34:46.954034Z",
     "iopub.status.busy": "2024-02-13T18:34:46.952940Z",
     "iopub.status.idle": "2024-02-13T18:34:46.958376Z",
     "shell.execute_reply": "2024-02-13T18:34:46.957055Z"
    },
    "papermill": {
     "duration": 0.049898,
     "end_time": "2024-02-13T18:34:46.960761",
     "exception": false,
     "start_time": "2024-02-13T18:34:46.910863",
     "status": "completed"
    },
    "tags": []
   },
   "outputs": [],
   "source": [
    "#best_xgb_weight, best_rf_wight = optimize_weights(100)"
   ]
  },
  {
   "cell_type": "code",
   "execution_count": 41,
   "id": "37fff557",
   "metadata": {
    "execution": {
     "iopub.execute_input": "2024-02-13T18:34:47.041604Z",
     "iopub.status.busy": "2024-02-13T18:34:47.041198Z",
     "iopub.status.idle": "2024-02-13T18:34:47.249950Z",
     "shell.execute_reply": "2024-02-13T18:34:47.248702Z"
    },
    "papermill": {
     "duration": 0.252691,
     "end_time": "2024-02-13T18:34:47.252992",
     "exception": false,
     "start_time": "2024-02-13T18:34:47.000301",
     "status": "completed"
    },
    "tags": []
   },
   "outputs": [
    {
     "name": "stdout",
     "output_type": "stream",
     "text": [
      "Total Blended Train Accuracy: 84.55%\n",
      "Total Blended Validation Accuracy: 83.24%\n",
      "Rate of survivors in test: 0.31843575418994413\n"
     ]
    }
   ],
   "source": [
    "prob_train, prob_val, prob_test = 0, 0, 0\n",
    "rf_weight = 0.1/len(seeds)\n",
    "xgb_weight = 0.9/len(seeds)\n",
    "#xgb_weight = 0.15129789918692835\n",
    "#xgb_weight = 0.062\n",
    "#lgbm_weight = 0.007183640344224591\n",
    "#lgbm_weight = 1/len(seeds)\n",
    "\n",
    "\n",
    "for i in range(len(seeds)):\n",
    "    prob_train, prob_val, prob_test = \\\n",
    "        add_model_probabilities(xgb_seed_models[i], xgb_weight, prob_train, prob_val, prob_test)\n",
    "    prob_train, prob_val, prob_test = \\\n",
    "        add_model_probabilities(rf_seed_models[i], rf_weight, prob_train, prob_val, prob_test)\n",
    "    #prob_train, prob_val, prob_test = \\\n",
    "        #add_model_probabilities(lgbm_seed_models[i], lgbm_weight, prob_train, prob_val, prob_test)\n",
    "\n",
    "threshold = 0.5\n",
    "\n",
    "blended_y_train = (prob_train[:, 1] > threshold).astype(int)\n",
    "blended_y_val = (prob_val[:, 1] > threshold).astype(int)\n",
    "blended_y_test = (prob_test[:, 1] > threshold).astype(int)\n",
    "\n",
    "blended_y_train = np.argmax(prob_train, axis=1).astype(int)\n",
    "blended_y_val = np.argmax(prob_val, axis=1).astype(int)\n",
    "blended_y_test = np.argmax(prob_test, axis=1).astype(int)\n",
    "\n",
    "# Calculate accuracy on train\n",
    "blended_acc_train = accuracy_score(y_train, blended_y_train)\n",
    "print(f'Total Blended Train Accuracy: {blended_acc_train * 100:.2f}%')\n",
    "\n",
    "# Calculate accuracy on validation\n",
    "blended_acc_val = accuracy_score(y_val, blended_y_val)\n",
    "print(f'Total Blended Validation Accuracy: {blended_acc_val * 100:.2f}%')\n",
    "\n",
    "print(\"Rate of survivors in test:\", sum(blended_y_val)/len(blended_y_val))\n"
   ]
  },
  {
   "cell_type": "code",
   "execution_count": 42,
   "id": "f9d63016",
   "metadata": {
    "execution": {
     "iopub.execute_input": "2024-02-13T18:34:47.334218Z",
     "iopub.status.busy": "2024-02-13T18:34:47.333762Z",
     "iopub.status.idle": "2024-02-13T18:34:47.346104Z",
     "shell.execute_reply": "2024-02-13T18:34:47.344386Z"
    },
    "papermill": {
     "duration": 0.05597,
     "end_time": "2024-02-13T18:34:47.348672",
     "exception": false,
     "start_time": "2024-02-13T18:34:47.292702",
     "status": "completed"
    },
    "tags": []
   },
   "outputs": [
    {
     "name": "stdout",
     "output_type": "stream",
     "text": [
      "Your submission was successfully saved!\n"
     ]
    }
   ],
   "source": [
    "output = pd.DataFrame({'PassengerId': test_df.PassengerId, 'Survived': blended_y_test})\n",
    "output.to_csv('submission.csv', index=False)\n",
    "print(\"Your submission was successfully saved!\")"
   ]
  },
  {
   "cell_type": "markdown",
   "id": "65ebd4e9",
   "metadata": {
    "papermill": {
     "duration": 0.041627,
     "end_time": "2024-02-13T18:34:47.432374",
     "exception": false,
     "start_time": "2024-02-13T18:34:47.390747",
     "status": "completed"
    },
    "tags": []
   },
   "source": [
    "# Archive"
   ]
  },
  {
   "cell_type": "code",
   "execution_count": 43,
   "id": "fc8a4106",
   "metadata": {
    "execution": {
     "iopub.execute_input": "2024-02-13T18:34:47.514994Z",
     "iopub.status.busy": "2024-02-13T18:34:47.514221Z",
     "iopub.status.idle": "2024-02-13T18:34:47.522090Z",
     "shell.execute_reply": "2024-02-13T18:34:47.521179Z"
    },
    "papermill": {
     "duration": 0.051656,
     "end_time": "2024-02-13T18:34:47.525120",
     "exception": false,
     "start_time": "2024-02-13T18:34:47.473464",
     "status": "completed"
    },
    "tags": []
   },
   "outputs": [
    {
     "data": {
      "text/plain": [
       "'\\nimport xgboost as xgb\\nfrom sklearn.metrics import accuracy_score\\n\\nscale_pos_weight = len(y_val)/sum(y_val)\\nprint(\"calculated scale_pos_weight:\", scale_pos_weight)\\n\\ntitanic_model = xgb.XGBClassifier(objective=\"binary:logistic\",  \\n                                seed=42,\\n                               verbosity=0, \\n                               n_estimators=100, \\n                               eval_metric=\\'error\\',\\n                               max_depth=4,\\n                                subsample=0.99,\\n                                eta=0.15,\\n                                gamma=0.25,\\n                                scale_pos_weight=1.2,\\n                                reg_lambda=40, \\n                                early_stopping_rounds=9, \\n                               min_child_weight=9, \\n                               colsample_bytree=0.4)\\n\\nevals_result = {}\\n\\ntitanic_model.fit(X_train, \\n               y_train, \\n               verbose=True,\\n                eval_set=[(X_train, y_train), (X_val, y_val)])\\n\\n\\nevals_result = titanic_model.evals_result()\\n#print(evals_result)\\n\\n# Make predictions on the validation set\\ny_pred = titanic_model.predict(X_val)\\n\\n# Calculate accuracy\\naccuracy = accuracy_score(y_val, y_pred)\\nprint(f\\'Total Accuracy: {accuracy * 100:.2f}%\\')\\n'"
      ]
     },
     "execution_count": 43,
     "metadata": {},
     "output_type": "execute_result"
    }
   ],
   "source": [
    "'''\n",
    "import xgboost as xgb\n",
    "from sklearn.metrics import accuracy_score\n",
    "\n",
    "scale_pos_weight = len(y_val)/sum(y_val)\n",
    "print(\"calculated scale_pos_weight:\", scale_pos_weight)\n",
    "\n",
    "titanic_model = xgb.XGBClassifier(objective=\"binary:logistic\",  \n",
    "                                seed=42,\n",
    "                               verbosity=0, \n",
    "                               n_estimators=100, \n",
    "                               eval_metric='error',\n",
    "                               max_depth=4,\n",
    "                                subsample=0.99,\n",
    "                                eta=0.15,\n",
    "                                gamma=0.25,\n",
    "                                scale_pos_weight=1.2,\n",
    "                                reg_lambda=40, \n",
    "                                early_stopping_rounds=9, \n",
    "                               min_child_weight=9, \n",
    "                               colsample_bytree=0.4)\n",
    "\n",
    "evals_result = {}\n",
    "\n",
    "titanic_model.fit(X_train, \n",
    "               y_train, \n",
    "               verbose=True,\n",
    "                eval_set=[(X_train, y_train), (X_val, y_val)])\n",
    "\n",
    "\n",
    "evals_result = titanic_model.evals_result()\n",
    "#print(evals_result)\n",
    "\n",
    "# Make predictions on the validation set\n",
    "y_pred = titanic_model.predict(X_val)\n",
    "\n",
    "# Calculate accuracy\n",
    "accuracy = accuracy_score(y_val, y_pred)\n",
    "print(f'Total Accuracy: {accuracy * 100:.2f}%')\n",
    "'''"
   ]
  },
  {
   "cell_type": "markdown",
   "id": "6bfcd444",
   "metadata": {
    "papermill": {
     "duration": 0.039478,
     "end_time": "2024-02-13T18:34:47.605581",
     "exception": false,
     "start_time": "2024-02-13T18:34:47.566103",
     "status": "completed"
    },
    "tags": []
   },
   "source": [
    "Grid search for hyperparams tuning:"
   ]
  },
  {
   "cell_type": "code",
   "execution_count": 44,
   "id": "6c07e8d0",
   "metadata": {
    "execution": {
     "iopub.execute_input": "2024-02-13T18:34:47.688997Z",
     "iopub.status.busy": "2024-02-13T18:34:47.687707Z",
     "iopub.status.idle": "2024-02-13T18:34:47.697824Z",
     "shell.execute_reply": "2024-02-13T18:34:47.696411Z"
    },
    "papermill": {
     "duration": 0.054849,
     "end_time": "2024-02-13T18:34:47.700738",
     "exception": false,
     "start_time": "2024-02-13T18:34:47.645889",
     "status": "completed"
    },
    "tags": []
   },
   "outputs": [
    {
     "data": {
      "text/plain": [
       "'\\nfrom sklearn.model_selection import GridSearchCV\\n\\n# scale_pos_weight = 62/38 # ~1.63 \\ngrid_model = xgb.XGBClassifier(objective=\"binary:logistic\",  \\n                                seed=42,\\n                               verbosity=0,\\n                               #n_estimators=300, \\n                              eval_metric=\\'error\\')\\n\\n# Define the parameter grid for GridSearchCV\\nparam_grid = {\\n    \\'eta\\': [0.15],\\n    \\'max_depth\\': [4],\\n    \\'scale_pos_weight\\': [1.2],\\n    \\'gamma\\': [0.25],\\n    \\'reg_lambda\\': [30],  # Default is 0.0 (L2 regularization)\\n    \\'subsample\\': [0.99],\\n    \\'min_child_weight\\': [9],\\n    \\'colsample_bytree\\': [0.4], \\n    \\'early_stopping_rounds\\': [9], \\n    \\'n_estimators\\': [100]\\n}\\n\\n# Create GridSearchCV object\\ngrid_search = GridSearchCV(grid_model, \\n                           param_grid, \\n                           scoring=\\'accuracy\\', \\n                           cv=5, \\n                           verbose=0, \\n                           n_jobs=-1)\\n\\n# Fit the model\\ngrid_search.fit(X_train, \\n                y_train, \\n                verbose=0,\\n                eval_set=[(X_val, y_val)])\\n\\n# Print the best parameters and the corresponding score\\nprint(\"Best Parameters: \", grid_search.best_params_)\\nprint(\"Best Score: \", grid_search.best_score_)\\n\\n\\n'"
      ]
     },
     "execution_count": 44,
     "metadata": {},
     "output_type": "execute_result"
    }
   ],
   "source": [
    "'''\n",
    "from sklearn.model_selection import GridSearchCV\n",
    "\n",
    "# scale_pos_weight = 62/38 # ~1.63 \n",
    "grid_model = xgb.XGBClassifier(objective=\"binary:logistic\",  \n",
    "                                seed=42,\n",
    "                               verbosity=0,\n",
    "                               #n_estimators=300, \n",
    "                              eval_metric='error')\n",
    "\n",
    "# Define the parameter grid for GridSearchCV\n",
    "param_grid = {\n",
    "    'eta': [0.15],\n",
    "    'max_depth': [4],\n",
    "    'scale_pos_weight': [1.2],\n",
    "    'gamma': [0.25],\n",
    "    'reg_lambda': [30],  # Default is 0.0 (L2 regularization)\n",
    "    'subsample': [0.99],\n",
    "    'min_child_weight': [9],\n",
    "    'colsample_bytree': [0.4], \n",
    "    'early_stopping_rounds': [9], \n",
    "    'n_estimators': [100]\n",
    "}\n",
    "\n",
    "# Create GridSearchCV object\n",
    "grid_search = GridSearchCV(grid_model, \n",
    "                           param_grid, \n",
    "                           scoring='accuracy', \n",
    "                           cv=5, \n",
    "                           verbose=0, \n",
    "                           n_jobs=-1)\n",
    "\n",
    "# Fit the model\n",
    "grid_search.fit(X_train, \n",
    "                y_train, \n",
    "                verbose=0,\n",
    "                eval_set=[(X_val, y_val)])\n",
    "\n",
    "# Print the best parameters and the corresponding score\n",
    "print(\"Best Parameters: \", grid_search.best_params_)\n",
    "print(\"Best Score: \", grid_search.best_score_)\n",
    "\n",
    "\n",
    "'''"
   ]
  },
  {
   "cell_type": "code",
   "execution_count": 45,
   "id": "3f6d1a9b",
   "metadata": {
    "execution": {
     "iopub.execute_input": "2024-02-13T18:34:47.780732Z",
     "iopub.status.busy": "2024-02-13T18:34:47.780251Z",
     "iopub.status.idle": "2024-02-13T18:34:47.787110Z",
     "shell.execute_reply": "2024-02-13T18:34:47.786259Z"
    },
    "papermill": {
     "duration": 0.049626,
     "end_time": "2024-02-13T18:34:47.789372",
     "exception": false,
     "start_time": "2024-02-13T18:34:47.739746",
     "status": "completed"
    },
    "tags": []
   },
   "outputs": [
    {
     "data": {
      "text/plain": [
       "'\\nbest_model = xgb.XGBClassifier(\\n    objective=\"binary:logistic\",\\n    eval_metric=\\'error\\',\\n    seed=42,\\n    verbosity=0,\\n    #n_estimators=100,  # You may adjust this based on the best result\\n    **grid_search.best_params_  # Set the best parameters obtained from the grid search\\n)\\n\\nprint(best_model)\\n'"
      ]
     },
     "execution_count": 45,
     "metadata": {},
     "output_type": "execute_result"
    }
   ],
   "source": [
    "# Create a new XGBoost model with the best parameters\n",
    "'''\n",
    "best_model = xgb.XGBClassifier(\n",
    "    objective=\"binary:logistic\",\n",
    "    eval_metric='error',\n",
    "    seed=42,\n",
    "    verbosity=0,\n",
    "    #n_estimators=100,  # You may adjust this based on the best result\n",
    "    **grid_search.best_params_  # Set the best parameters obtained from the grid search\n",
    ")\n",
    "\n",
    "print(best_model)\n",
    "'''"
   ]
  },
  {
   "cell_type": "markdown",
   "id": "0eb0cac7",
   "metadata": {
    "papermill": {
     "duration": 0.038768,
     "end_time": "2024-02-13T18:34:47.867001",
     "exception": false,
     "start_time": "2024-02-13T18:34:47.828233",
     "status": "completed"
    },
    "tags": []
   },
   "source": [
    "Do some plotting:"
   ]
  },
  {
   "cell_type": "code",
   "execution_count": 46,
   "id": "8e5d1e42",
   "metadata": {
    "execution": {
     "iopub.execute_input": "2024-02-13T18:34:47.948404Z",
     "iopub.status.busy": "2024-02-13T18:34:47.946823Z",
     "iopub.status.idle": "2024-02-13T18:34:47.957318Z",
     "shell.execute_reply": "2024-02-13T18:34:47.956038Z"
    },
    "papermill": {
     "duration": 0.05385,
     "end_time": "2024-02-13T18:34:47.959735",
     "exception": false,
     "start_time": "2024-02-13T18:34:47.905885",
     "status": "completed"
    },
    "tags": []
   },
   "outputs": [
    {
     "data": {
      "text/plain": [
       "\"\\nimport matplotlib.pyplot as plt\\n\\nbest_model = titanic_model\\n\\nbest_model.fit(X_train, \\n               y_train, \\n               verbose=True,\\n                eval_set=[(X_train, y_train), (X_val, y_val)])\\n\\n\\nevals_result = best_model.evals_result()\\n\\n\\n############################\\n# Feature Importance Plot: #\\n############################\\nxgb.plot_importance(best_model, importance_type='weight')\\nplt.show()\\n\\n##############\\n# Tree Plot: #\\n##############\\n#xgb.plot_tree(titanic_xgb, num_trees=0)\\n#plt.show()\\n\\n###################\\n# Learning Curve: #\\n###################\\n# Example assuming 'validation_0' is used for training and 'validation_1' for validation\\ntrain_key = list(evals_result.keys())[0]\\nval_key = list(evals_result.keys())[1]\\n\\n# Extract training and validation errors\\ntrain_error = np.array(evals_result[train_key]['error'])\\nval_error = np.array(evals_result[val_key]['error'])\\n\\n# Plot learning curves\\nplt.plot(train_error, label='Training Error')\\nplt.plot(val_error, label='Validation Error')\\nplt.xlabel('Boosting Rounds')\\nplt.ylabel('Accuracy')\\nplt.title('XGBoost Learning Curve')\\nplt.legend()\\nplt.show()\\n\""
      ]
     },
     "execution_count": 46,
     "metadata": {},
     "output_type": "execute_result"
    }
   ],
   "source": [
    "'''\n",
    "import matplotlib.pyplot as plt\n",
    "\n",
    "best_model = titanic_model\n",
    "\n",
    "best_model.fit(X_train, \n",
    "               y_train, \n",
    "               verbose=True,\n",
    "                eval_set=[(X_train, y_train), (X_val, y_val)])\n",
    "\n",
    "\n",
    "evals_result = best_model.evals_result()\n",
    "\n",
    "\n",
    "############################\n",
    "# Feature Importance Plot: #\n",
    "############################\n",
    "xgb.plot_importance(best_model, importance_type='weight')\n",
    "plt.show()\n",
    "\n",
    "##############\n",
    "# Tree Plot: #\n",
    "##############\n",
    "#xgb.plot_tree(titanic_xgb, num_trees=0)\n",
    "#plt.show()\n",
    "\n",
    "###################\n",
    "# Learning Curve: #\n",
    "###################\n",
    "# Example assuming 'validation_0' is used for training and 'validation_1' for validation\n",
    "train_key = list(evals_result.keys())[0]\n",
    "val_key = list(evals_result.keys())[1]\n",
    "\n",
    "# Extract training and validation errors\n",
    "train_error = np.array(evals_result[train_key]['error'])\n",
    "val_error = np.array(evals_result[val_key]['error'])\n",
    "\n",
    "# Plot learning curves\n",
    "plt.plot(train_error, label='Training Error')\n",
    "plt.plot(val_error, label='Validation Error')\n",
    "plt.xlabel('Boosting Rounds')\n",
    "plt.ylabel('Accuracy')\n",
    "plt.title('XGBoost Learning Curve')\n",
    "plt.legend()\n",
    "plt.show()\n",
    "'''"
   ]
  },
  {
   "cell_type": "markdown",
   "id": "2c2249af",
   "metadata": {
    "papermill": {
     "duration": 0.038562,
     "end_time": "2024-02-13T18:34:48.038266",
     "exception": false,
     "start_time": "2024-02-13T18:34:47.999704",
     "status": "completed"
    },
    "tags": []
   },
   "source": [
    "Now let's run inference on test data and prepare csv for submission:"
   ]
  },
  {
   "cell_type": "code",
   "execution_count": 47,
   "id": "80da7cd0",
   "metadata": {
    "execution": {
     "iopub.execute_input": "2024-02-13T18:34:48.119139Z",
     "iopub.status.busy": "2024-02-13T18:34:48.118249Z",
     "iopub.status.idle": "2024-02-13T18:34:48.125479Z",
     "shell.execute_reply": "2024-02-13T18:34:48.124559Z"
    },
    "papermill": {
     "duration": 0.050361,
     "end_time": "2024-02-13T18:34:48.127707",
     "exception": false,
     "start_time": "2024-02-13T18:34:48.077346",
     "status": "completed"
    },
    "tags": []
   },
   "outputs": [
    {
     "data": {
      "text/plain": [
       "'\\nbest_model.fit(X_train, \\n               y_train, \\n               verbose=True,\\n                eval_set=[(X_train, y_train), (X_val, y_val)])\\n\\nval_predictions = best_model.predict(X_val)\\n# Calculate accuracy\\nval_accuracy = accuracy_score(y_val, val_predictions)\\nprint(f\\'Total Val Accuracy: {val_accuracy * 100:.2f}%\\')\\n\\n# Make predictions on the test set\\ntest_predictions = best_model.predict(test_df_encoded)\\n\\n# verify we stratified by y properly:\\nprint(\"rate of survivors in test:\", sum(test_predictions)/len(test_predictions))\\n\\n\\n#output = pd.DataFrame({\\'PassengerId\\': test_df.PassengerId, \\'Survived\\': test_predictions})\\n#output.to_csv(\\'submission.csv\\', index=False)\\n#print(\"Your submission was successfully saved!\")\\n'"
      ]
     },
     "execution_count": 47,
     "metadata": {},
     "output_type": "execute_result"
    }
   ],
   "source": [
    "'''\n",
    "best_model.fit(X_train, \n",
    "               y_train, \n",
    "               verbose=True,\n",
    "                eval_set=[(X_train, y_train), (X_val, y_val)])\n",
    "\n",
    "val_predictions = best_model.predict(X_val)\n",
    "# Calculate accuracy\n",
    "val_accuracy = accuracy_score(y_val, val_predictions)\n",
    "print(f'Total Val Accuracy: {val_accuracy * 100:.2f}%')\n",
    "\n",
    "# Make predictions on the test set\n",
    "test_predictions = best_model.predict(test_df_encoded)\n",
    "\n",
    "# verify we stratified by y properly:\n",
    "print(\"rate of survivors in test:\", sum(test_predictions)/len(test_predictions))\n",
    "\n",
    "\n",
    "#output = pd.DataFrame({'PassengerId': test_df.PassengerId, 'Survived': test_predictions})\n",
    "#output.to_csv('submission.csv', index=False)\n",
    "#print(\"Your submission was successfully saved!\")\n",
    "'''"
   ]
  },
  {
   "cell_type": "code",
   "execution_count": 48,
   "id": "2694fc98",
   "metadata": {
    "execution": {
     "iopub.execute_input": "2024-02-13T18:34:48.210820Z",
     "iopub.status.busy": "2024-02-13T18:34:48.209895Z",
     "iopub.status.idle": "2024-02-13T18:34:48.216659Z",
     "shell.execute_reply": "2024-02-13T18:34:48.215741Z"
    },
    "papermill": {
     "duration": 0.052742,
     "end_time": "2024-02-13T18:34:48.219060",
     "exception": false,
     "start_time": "2024-02-13T18:34:48.166318",
     "status": "completed"
    },
    "tags": []
   },
   "outputs": [
    {
     "data": {
      "text/plain": [
       "\"\\nfrom sklearn.metrics import confusion_matrix\\nfrom sklearn.model_selection import train_test_split\\nfrom sklearn.ensemble import RandomForestClassifier\\n\\n# Compute confusion matrix\\ncm = confusion_matrix(y_val, val_predictions)\\n\\n# Plot confusion matrix using seaborn\\nplt.figure(figsize=(4, 2))\\nsns.heatmap(cm, annot=True, fmt='d', cmap='Blues', cbar=False)\\nplt.title('Confusion Matrix')\\nplt.xlabel('Predicted')\\nplt.ylabel('Actual')\\nplt.show()\\n\""
      ]
     },
     "execution_count": 48,
     "metadata": {},
     "output_type": "execute_result"
    }
   ],
   "source": [
    "'''\n",
    "from sklearn.metrics import confusion_matrix\n",
    "from sklearn.model_selection import train_test_split\n",
    "from sklearn.ensemble import RandomForestClassifier\n",
    "\n",
    "# Compute confusion matrix\n",
    "cm = confusion_matrix(y_val, val_predictions)\n",
    "\n",
    "# Plot confusion matrix using seaborn\n",
    "plt.figure(figsize=(4, 2))\n",
    "sns.heatmap(cm, annot=True, fmt='d', cmap='Blues', cbar=False)\n",
    "plt.title('Confusion Matrix')\n",
    "plt.xlabel('Predicted')\n",
    "plt.ylabel('Actual')\n",
    "plt.show()\n",
    "'''"
   ]
  },
  {
   "cell_type": "code",
   "execution_count": 49,
   "id": "30fb0bcd",
   "metadata": {
    "execution": {
     "iopub.execute_input": "2024-02-13T18:34:48.300349Z",
     "iopub.status.busy": "2024-02-13T18:34:48.299535Z",
     "iopub.status.idle": "2024-02-13T18:34:48.306360Z",
     "shell.execute_reply": "2024-02-13T18:34:48.305488Z"
    },
    "papermill": {
     "duration": 0.050168,
     "end_time": "2024-02-13T18:34:48.308729",
     "exception": false,
     "start_time": "2024-02-13T18:34:48.258561",
     "status": "completed"
    },
    "tags": []
   },
   "outputs": [
    {
     "data": {
      "text/plain": [
       "\"\\ndef display_missing(df):    \\n    for col in df.columns.tolist():          \\n        print('{} column missing values: {}'.format(col, df[col].isnull().sum()))\\n    print('\\n')\\n    \\n#display_missing(X_train)\\n#display_missing(X_val)\\n#display_missing(test_df_encoded)\\n#print(test_df_encoded['Fare_group'])\\n\""
      ]
     },
     "execution_count": 49,
     "metadata": {},
     "output_type": "execute_result"
    }
   ],
   "source": [
    "'''\n",
    "def display_missing(df):    \n",
    "    for col in df.columns.tolist():          \n",
    "        print('{} column missing values: {}'.format(col, df[col].isnull().sum()))\n",
    "    print('\\n')\n",
    "    \n",
    "#display_missing(X_train)\n",
    "#display_missing(X_val)\n",
    "#display_missing(test_df_encoded)\n",
    "#print(test_df_encoded['Fare_group'])\n",
    "'''"
   ]
  },
  {
   "cell_type": "code",
   "execution_count": 50,
   "id": "dee396e9",
   "metadata": {
    "execution": {
     "iopub.execute_input": "2024-02-13T18:34:48.390809Z",
     "iopub.status.busy": "2024-02-13T18:34:48.390361Z",
     "iopub.status.idle": "2024-02-13T18:34:48.397883Z",
     "shell.execute_reply": "2024-02-13T18:34:48.396971Z"
    },
    "papermill": {
     "duration": 0.051331,
     "end_time": "2024-02-13T18:34:48.400018",
     "exception": false,
     "start_time": "2024-02-13T18:34:48.348687",
     "status": "completed"
    },
    "tags": []
   },
   "outputs": [
    {
     "data": {
      "text/plain": [
       "'\\nfrom sklearn.ensemble import RandomForestClassifier\\n\\nrf_model = RandomForestClassifier(n_estimators=100, max_depth=5, random_state=1)\\nrf_model.fit(X_train, y_train)\\nrf_pred_val = rf_model.predict(X_val)\\nrf_pred_test = rf_model.predict(test_df_encoded)\\n\\n# Calculate accuracy\\nval_accuracy = accuracy_score(y_val, rf_pred_val)\\nprint(f\\'Total Val Accuracy: {val_accuracy * 100:.2f}%\\')\\n\\n# Survivors rate in test predictions\\nprint(\"rate of survivors in test:\", sum(rf_pred_test)/len(rf_pred_test))\\n\\nprint(len(rf_pred_test))\\nprint(len(test_predictions))\\n'"
      ]
     },
     "execution_count": 50,
     "metadata": {},
     "output_type": "execute_result"
    }
   ],
   "source": [
    "'''\n",
    "from sklearn.ensemble import RandomForestClassifier\n",
    "\n",
    "rf_model = RandomForestClassifier(n_estimators=100, max_depth=5, random_state=1)\n",
    "rf_model.fit(X_train, y_train)\n",
    "rf_pred_val = rf_model.predict(X_val)\n",
    "rf_pred_test = rf_model.predict(test_df_encoded)\n",
    "\n",
    "# Calculate accuracy\n",
    "val_accuracy = accuracy_score(y_val, rf_pred_val)\n",
    "print(f'Total Val Accuracy: {val_accuracy * 100:.2f}%')\n",
    "\n",
    "# Survivors rate in test predictions\n",
    "print(\"rate of survivors in test:\", sum(rf_pred_test)/len(rf_pred_test))\n",
    "\n",
    "print(len(rf_pred_test))\n",
    "print(len(test_predictions))\n",
    "'''"
   ]
  },
  {
   "cell_type": "code",
   "execution_count": 51,
   "id": "f80cc82a",
   "metadata": {
    "execution": {
     "iopub.execute_input": "2024-02-13T18:34:48.481091Z",
     "iopub.status.busy": "2024-02-13T18:34:48.480274Z",
     "iopub.status.idle": "2024-02-13T18:34:48.488522Z",
     "shell.execute_reply": "2024-02-13T18:34:48.487467Z"
    },
    "papermill": {
     "duration": 0.051556,
     "end_time": "2024-02-13T18:34:48.490864",
     "exception": false,
     "start_time": "2024-02-13T18:34:48.439308",
     "status": "completed"
    },
    "tags": []
   },
   "outputs": [
    {
     "data": {
      "text/plain": [
       "'\\n# Let\\'s see the ensemble of Xgboost and random forest:\\n\\nfinal_pred_test = rf_pred_test | test_predictions\\nfinal_pred_val = rf_pred_val | val_predictions\\n# Calculate accuracy\\nval_accuracy = accuracy_score(y_val, final_pred_val)\\nprint(f\\'Total Val Accuracy: {val_accuracy * 100:.2f}%\\')\\n\\n# Survivors rate in test predictions\\nprint(\"rate of survivors in test:\", sum(final_pred_test)/len(final_pred_test))\\n\\n\\n# Compute confusion matrix\\ncm = confusion_matrix(y_val, final_pred_val)\\n\\n# Plot confusion matrix using seaborn\\nplt.figure(figsize=(4, 2))\\nsns.heatmap(cm, annot=True, fmt=\\'d\\', cmap=\\'Blues\\', cbar=False)\\nplt.title(\\'Confusion Matrix\\')\\nplt.xlabel(\\'Predicted\\')\\nplt.ylabel(\\'Actual\\')\\nplt.show()\\n'"
      ]
     },
     "execution_count": 51,
     "metadata": {},
     "output_type": "execute_result"
    }
   ],
   "source": [
    "'''\n",
    "# Let's see the ensemble of Xgboost and random forest:\n",
    "\n",
    "final_pred_test = rf_pred_test | test_predictions\n",
    "final_pred_val = rf_pred_val | val_predictions\n",
    "# Calculate accuracy\n",
    "val_accuracy = accuracy_score(y_val, final_pred_val)\n",
    "print(f'Total Val Accuracy: {val_accuracy * 100:.2f}%')\n",
    "\n",
    "# Survivors rate in test predictions\n",
    "print(\"rate of survivors in test:\", sum(final_pred_test)/len(final_pred_test))\n",
    "\n",
    "\n",
    "# Compute confusion matrix\n",
    "cm = confusion_matrix(y_val, final_pred_val)\n",
    "\n",
    "# Plot confusion matrix using seaborn\n",
    "plt.figure(figsize=(4, 2))\n",
    "sns.heatmap(cm, annot=True, fmt='d', cmap='Blues', cbar=False)\n",
    "plt.title('Confusion Matrix')\n",
    "plt.xlabel('Predicted')\n",
    "plt.ylabel('Actual')\n",
    "plt.show()\n",
    "'''"
   ]
  },
  {
   "cell_type": "markdown",
   "id": "0b57f6ba",
   "metadata": {
    "papermill": {
     "duration": 0.039007,
     "end_time": "2024-02-13T18:34:48.570222",
     "exception": false,
     "start_time": "2024-02-13T18:34:48.531215",
     "status": "completed"
    },
    "tags": []
   },
   "source": [
    "Implement TabNet and then ensemble it with XGboost.\n",
    "First, install"
   ]
  },
  {
   "cell_type": "code",
   "execution_count": 52,
   "id": "ff721bbd",
   "metadata": {
    "execution": {
     "iopub.execute_input": "2024-02-13T18:34:48.651176Z",
     "iopub.status.busy": "2024-02-13T18:34:48.650693Z",
     "iopub.status.idle": "2024-02-13T18:34:48.658428Z",
     "shell.execute_reply": "2024-02-13T18:34:48.657255Z"
    },
    "papermill": {
     "duration": 0.051069,
     "end_time": "2024-02-13T18:34:48.660918",
     "exception": false,
     "start_time": "2024-02-13T18:34:48.609849",
     "status": "completed"
    },
    "tags": []
   },
   "outputs": [
    {
     "data": {
      "text/plain": [
       "'\\n!pip install pytorch-tabnet\\n'"
      ]
     },
     "execution_count": 52,
     "metadata": {},
     "output_type": "execute_result"
    }
   ],
   "source": [
    "'''\n",
    "!pip install pytorch-tabnet\n",
    "'''"
   ]
  },
  {
   "cell_type": "code",
   "execution_count": 53,
   "id": "bdedb2fa",
   "metadata": {
    "execution": {
     "iopub.execute_input": "2024-02-13T18:34:48.744983Z",
     "iopub.status.busy": "2024-02-13T18:34:48.743592Z",
     "iopub.status.idle": "2024-02-13T18:34:48.751432Z",
     "shell.execute_reply": "2024-02-13T18:34:48.750344Z"
    },
    "papermill": {
     "duration": 0.0527,
     "end_time": "2024-02-13T18:34:48.753770",
     "exception": false,
     "start_time": "2024-02-13T18:34:48.701070",
     "status": "completed"
    },
    "tags": []
   },
   "outputs": [
    {
     "data": {
      "text/plain": [
       "'\\nimport torch\\nimport torch.nn as nn\\nimport torch.optim as optim\\nfrom torch.utils.data import DataLoader\\nfrom torch.utils.data import sampler\\nimport torchvision.datasets as dset\\nimport torchvision.transforms as T\\nimport numpy as np\\nimport copy\\n'"
      ]
     },
     "execution_count": 53,
     "metadata": {},
     "output_type": "execute_result"
    }
   ],
   "source": [
    "'''\n",
    "import torch\n",
    "import torch.nn as nn\n",
    "import torch.optim as optim\n",
    "from torch.utils.data import DataLoader\n",
    "from torch.utils.data import sampler\n",
    "import torchvision.datasets as dset\n",
    "import torchvision.transforms as T\n",
    "import numpy as np\n",
    "import copy\n",
    "'''"
   ]
  },
  {
   "cell_type": "code",
   "execution_count": 54,
   "id": "8f10ea2b",
   "metadata": {
    "execution": {
     "iopub.execute_input": "2024-02-13T18:34:48.835458Z",
     "iopub.status.busy": "2024-02-13T18:34:48.834775Z",
     "iopub.status.idle": "2024-02-13T18:34:48.842364Z",
     "shell.execute_reply": "2024-02-13T18:34:48.841095Z"
    },
    "papermill": {
     "duration": 0.051404,
     "end_time": "2024-02-13T18:34:48.844796",
     "exception": false,
     "start_time": "2024-02-13T18:34:48.793392",
     "status": "completed"
    },
    "tags": []
   },
   "outputs": [
    {
     "data": {
      "text/plain": [
       "\"\\ndef create_values_no_objects(df):\\n    # Identify boolean columns\\n    bool_columns = df.select_dtypes(include='bool').columns\\n\\n    # Create a mask for boolean columns\\n    bool_mask = df.columns.isin(bool_columns)\\n\\n    # Convert boolean values to numeric representation\\n    df_numeric = df.copy()\\n    df_numeric.loc[:, bool_mask] = df_numeric.loc[:, bool_mask].astype(int)\\n\\n    # Extract the values from the DataFrame\\n    data = df_numeric.values\\n\\n    \\n    return data\\n\""
      ]
     },
     "execution_count": 54,
     "metadata": {},
     "output_type": "execute_result"
    }
   ],
   "source": [
    "'''\n",
    "def create_values_no_objects(df):\n",
    "    # Identify boolean columns\n",
    "    bool_columns = df.select_dtypes(include='bool').columns\n",
    "\n",
    "    # Create a mask for boolean columns\n",
    "    bool_mask = df.columns.isin(bool_columns)\n",
    "\n",
    "    # Convert boolean values to numeric representation\n",
    "    df_numeric = df.copy()\n",
    "    df_numeric.loc[:, bool_mask] = df_numeric.loc[:, bool_mask].astype(int)\n",
    "\n",
    "    # Extract the values from the DataFrame\n",
    "    data = df_numeric.values\n",
    "\n",
    "    \n",
    "    return data\n",
    "'''"
   ]
  },
  {
   "cell_type": "code",
   "execution_count": 55,
   "id": "9e8e05ab",
   "metadata": {
    "execution": {
     "iopub.execute_input": "2024-02-13T18:34:48.927121Z",
     "iopub.status.busy": "2024-02-13T18:34:48.926724Z",
     "iopub.status.idle": "2024-02-13T18:34:48.934136Z",
     "shell.execute_reply": "2024-02-13T18:34:48.932718Z"
    },
    "papermill": {
     "duration": 0.051713,
     "end_time": "2024-02-13T18:34:48.937029",
     "exception": false,
     "start_time": "2024-02-13T18:34:48.885316",
     "status": "completed"
    },
    "tags": []
   },
   "outputs": [
    {
     "data": {
      "text/plain": [
       "'\\nfrom pytorch_tabnet.tab_model import TabNetClassifier\\nimport torch\\n\\nTabNetClassifier()\\n'"
      ]
     },
     "execution_count": 55,
     "metadata": {},
     "output_type": "execute_result"
    }
   ],
   "source": [
    "'''\n",
    "from pytorch_tabnet.tab_model import TabNetClassifier\n",
    "import torch\n",
    "\n",
    "TabNetClassifier()\n",
    "'''"
   ]
  },
  {
   "cell_type": "code",
   "execution_count": 56,
   "id": "ec5a8ae1",
   "metadata": {
    "execution": {
     "iopub.execute_input": "2024-02-13T18:34:49.020893Z",
     "iopub.status.busy": "2024-02-13T18:34:49.020032Z",
     "iopub.status.idle": "2024-02-13T18:34:49.027058Z",
     "shell.execute_reply": "2024-02-13T18:34:49.026073Z"
    },
    "papermill": {
     "duration": 0.050882,
     "end_time": "2024-02-13T18:34:49.029376",
     "exception": false,
     "start_time": "2024-02-13T18:34:48.978494",
     "status": "completed"
    },
    "tags": []
   },
   "outputs": [
    {
     "data": {
      "text/plain": [
       "'\\nexpected_rate = 0.38\\ndef expected_survivors_rate(pred, threshold):\\n    rate = sum(pred)/len(pred)\\n    if (abs(rate-expected_rate) < threshold):\\n        return True\\n    return False\\n'"
      ]
     },
     "execution_count": 56,
     "metadata": {},
     "output_type": "execute_result"
    }
   ],
   "source": [
    "'''\n",
    "expected_rate = 0.38\n",
    "def expected_survivors_rate(pred, threshold):\n",
    "    rate = sum(pred)/len(pred)\n",
    "    if (abs(rate-expected_rate) < threshold):\n",
    "        return True\n",
    "    return False\n",
    "'''"
   ]
  },
  {
   "cell_type": "markdown",
   "id": "e37e8bf3",
   "metadata": {
    "papermill": {
     "duration": 0.039787,
     "end_time": "2024-02-13T18:34:49.109408",
     "exception": false,
     "start_time": "2024-02-13T18:34:49.069621",
     "status": "completed"
    },
    "tags": []
   },
   "source": [
    "from pytorch_tabnet.tab_model import TabNetClassifier\n",
    "import torch\n",
    "\n",
    "# Set seed for CPU operations\n",
    "torch.manual_seed(42)\n",
    "\n",
    "# create tensors out of the dfs:\n",
    "X_train_np = create_values_no_objects(X_train)\n",
    "y_train_np = y_train.values\n",
    "X_val_np = create_values_no_objects(X_val)\n",
    "y_val_np = y_val.values\n",
    "X_test_np = create_values_no_objects(test_df_encoded)\n",
    "\n",
    "best_train_acc = 0\n",
    "best_val_acc = 0\n",
    "best_diff = 100\n",
    "best_n_steps = 0\n",
    "best_n_a = 0\n",
    "best_n_d = 0\n",
    "best_n_shared = 0\n",
    "best_lr = 0\n",
    "best_gamma = 0\n",
    "\n",
    "#learning_rates = 10**np.random.uniform(-3, 0, 10)\n",
    "#learning_rates = [0.0498]\n",
    "learning_rates = [0.0130]\n",
    "n_a_arr = [9]\n",
    "n_d_arr = [7]\n",
    "n_shared_arr = [3]\n",
    "n_steps_arr = [4]\n",
    "#gamma_arr = np.random.uniform(0.9, 1, 3)\n",
    "gamma_arr = [0.9477]\n",
    "\n",
    "for _, n_step in enumerate(n_steps_arr):\n",
    "    for _, lr in enumerate(learning_rates):\n",
    "        for _, n_a in enumerate(n_a_arr):\n",
    "            for _, n_d in enumerate(n_d_arr):\n",
    "                for _, n_shared in enumerate(n_shared_arr):\n",
    "                    for _, gamma in enumerate(gamma_arr):\n",
    "                        # define the model\n",
    "                        tabnet_model = TabNetClassifier(n_steps = n_step,\n",
    "                                                        n_a = n_a, \n",
    "                                                        n_d = n_d, \n",
    "                                                        n_shared = n_shared,\n",
    "                                                        seed = 42, \n",
    "                                                        verbose=False,\n",
    "                                                        optimizer_fn=torch.optim.Adam,\n",
    "                                                        optimizer_params={'lr': lr},\n",
    "                                               scheduler_params={\"step_size\":10, \n",
    "                                                                 \"gamma\":gamma},\n",
    "                                               scheduler_fn=torch.optim.lr_scheduler.StepLR,\n",
    "                                              )\n",
    "\n",
    "                        # fit the model \n",
    "                        tabnet_model.fit(\n",
    "                            X_train_np,y_train_np,\n",
    "                            eval_set=[(X_train_np, y_train_np), (X_val_np, y_val_np)],\n",
    "                            eval_name=['train', 'val'],\n",
    "                            eval_metric=['accuracy'],\n",
    "                            max_epochs=200, patience=60,\n",
    "                            batch_size=512, virtual_batch_size=512,\n",
    "                            num_workers=0,\n",
    "                            weights=1,\n",
    "                            drop_last=False\n",
    "                        )\n",
    "\n",
    "                        tabnet_pred_train = tabnet_model.predict(X_train_np)\n",
    "                        tabnet_pred_val = tabnet_model.predict(X_val_np)\n",
    "                        tabnet_pred_test = tabnet_model.predict(X_test_np)\n",
    "\n",
    "                        train_acc = accuracy_score(y_train_np, tabnet_pred_train)\n",
    "                        val_acc = accuracy_score(y_val_np, tabnet_pred_val)\n",
    "\n",
    "                        if (best_diff > abs(train_acc - val_acc) \n",
    "                            and expected_survivors_rate(tabnet_pred_test, 0.04)\n",
    "                            and train_acc > 0.815 \n",
    "                            and val_acc > 0.815\n",
    "                           ):\n",
    "                            best_diff = train_acc - val_acc\n",
    "                            best_train_acc = train_acc\n",
    "                            best_val_acc = val_acc\n",
    "                            best_n_steps = n_step\n",
    "                            best_lr = lr\n",
    "                            best_n_a = n_a\n",
    "                            best_n_d = n_d\n",
    "                            best_n_shared = n_shared\n",
    "                            best_gamma = gamma\n",
    "\n",
    "        \n",
    "print(\"best diff:%.4f best train:%.4f best val:%.4f best_n_steps:%.4f, best_lr:%.4f\"\\\n",
    "      %(best_diff, best_train_acc, best_val_acc, best_n_steps, best_lr))\n",
    "\n",
    "print(\"best n_a:%.4f best n_d:%.4f best n_shared:%.4f best gamma:%.4f\" %(best_n_a, best_n_d, best_n_shared, best_gamma))\n",
    "\n",
    "#plt.plot(tabnet_model.history['loss'])\n",
    "#plt.plot(tabnet_model.history['val']['loss'])\n",
    "#plt.title('Loss curve')\n",
    "#plt.show()\n",
    "\n",
    "#plt.plot(tabnet_model.history['metric'])\n",
    "#plt.plot(tabnet_model.history['val']['loss'])\n",
    "#plt.title('Learning curve')\n",
    "#plt.show()"
   ]
  },
  {
   "cell_type": "markdown",
   "id": "afb58341",
   "metadata": {
    "papermill": {
     "duration": 0.041571,
     "end_time": "2024-02-13T18:34:49.190817",
     "exception": false,
     "start_time": "2024-02-13T18:34:49.149246",
     "status": "completed"
    },
    "tags": []
   },
   "source": [
    "Run tabnet on test"
   ]
  },
  {
   "cell_type": "markdown",
   "id": "5d38cdd2",
   "metadata": {
    "papermill": {
     "duration": 0.039557,
     "end_time": "2024-02-13T18:34:49.270888",
     "exception": false,
     "start_time": "2024-02-13T18:34:49.231331",
     "status": "completed"
    },
    "tags": []
   },
   "source": [
    "\n",
    "tabnet_pred = tabnet_model.predict(X_test_np)\n",
    "print(\"rate of survivors in test: %.2f\" %(sum(tabnet_pred)/len(tabnet_pred) * 100) )\n",
    "\n",
    "\n"
   ]
  },
  {
   "cell_type": "markdown",
   "id": "cb2d1cca",
   "metadata": {
    "papermill": {
     "duration": 0.040159,
     "end_time": "2024-02-13T18:34:49.351636",
     "exception": false,
     "start_time": "2024-02-13T18:34:49.311477",
     "status": "completed"
    },
    "tags": []
   },
   "source": [
    "Blend the results of Xgb, random forest and tabnet alltogether"
   ]
  },
  {
   "cell_type": "markdown",
   "id": "24813f53",
   "metadata": {
    "papermill": {
     "duration": 0.041287,
     "end_time": "2024-02-13T18:34:49.433357",
     "exception": false,
     "start_time": "2024-02-13T18:34:49.392070",
     "status": "completed"
    },
    "tags": []
   },
   "source": [
    "tabnet_pred_train = tabnet_model.predict_proba(X_train_np)\n",
    "tabnet_pred_val = tabnet_model.predict_proba(X_val_np)\n",
    "tabnet_pred_test = tabnet_model.predict_proba(X_test_np)\n",
    "\n",
    "rf_pred_train = rf_model.predict_proba(X_train)\n",
    "rf_pred_val = rf_model.predict_proba(X_val)\n",
    "rf_pred_test = rf_model.predict_proba(test_df_encoded)\n",
    "\n",
    "xgb_pred_train = titanic_model.predict_proba(X_train)\n",
    "xgb_pred_val = titanic_model.predict_proba(X_val)\n",
    "xgb_pred_test = titanic_model.predict_proba(test_df_encoded)\n",
    "\n",
    "\n",
    "rf_weight = 0.35\n",
    "xgb_weight = 0.65\n",
    "tabnet_weight = 0\n",
    "\n",
    "#print(rf_weight + xgb_weight + tabnet_weight)\n",
    "#assert rf_weight + xgb_weight + tabnet_weight == 1.0, \"Weights should sum to 1.0\"\n",
    "\n",
    "threshold = 0.5\n",
    "blended_probabilities_train = \\\n",
    "(tabnet_weight*tabnet_pred_train + rf_weight*rf_pred_train + xgb_weight*xgb_pred_train)\n",
    "blended_pred_train = (blended_probabilities_train[:, 1] > threshold).astype(int)\n",
    "\n",
    "blended_probabilities_val = \\\n",
    "(tabnet_weight*tabnet_pred_val + rf_weight*rf_pred_val + xgb_weight*xgb_pred_val)\n",
    "blended_pred_val = (blended_probabilities_val[:, 1] > threshold).astype(int)\n",
    "\n",
    "blended_probabilities_test = \\\n",
    "(tabnet_weight*tabnet_pred_test + rf_weight*rf_pred_test + xgb_weight*xgb_pred_test)\n",
    "blended_pred_test = (blended_probabilities_test[:, 1] > threshold).astype(int)\n",
    "\n",
    "\n",
    "# Calculate accuracy on train\n",
    "blended_acc_train = accuracy_score(y_train, blended_pred_train)\n",
    "print(f'Total Blended Train Accuracy: {blended_acc_train * 100:.2f}%')\n",
    "print(\"Blended survivors rate train: %.2f\" %(sum(blended_pred_train)/len(blended_pred_train)*100))\n",
    "\n",
    "# Calculate accuracy on validation\n",
    "blended_acc_val = accuracy_score(y_val, blended_pred_val)\n",
    "print(f'Total Blended Validation Accuracy: {blended_acc_val * 100:.2f}%')\n",
    "print(\"Blended survivors rate val: %.2f\" %(sum(blended_pred_val)/len(blended_pred_val)*100))\n",
    "\n",
    "\n",
    "print(\"Blended survivors rate test: %.2f\" %(sum(blended_pred_test)/len(blended_pred_test)*100))\n",
    "\n"
   ]
  },
  {
   "cell_type": "markdown",
   "id": "aa4cc7ca",
   "metadata": {
    "papermill": {
     "duration": 0.039768,
     "end_time": "2024-02-13T18:34:49.513666",
     "exception": false,
     "start_time": "2024-02-13T18:34:49.473898",
     "status": "completed"
    },
    "tags": []
   },
   "source": [
    "Submit blended results:"
   ]
  },
  {
   "cell_type": "markdown",
   "id": "0ccb9e7b",
   "metadata": {
    "papermill": {
     "duration": 0.039561,
     "end_time": "2024-02-13T18:34:49.593685",
     "exception": false,
     "start_time": "2024-02-13T18:34:49.554124",
     "status": "completed"
    },
    "tags": []
   },
   "source": [
    "output = pd.DataFrame({'PassengerId': test_df.PassengerId, 'Survived': blended_pred_test})\n",
    "output.to_csv('submission.csv', index=False)\n",
    "print(\"Your submission was successfully saved!\")"
   ]
  },
  {
   "cell_type": "code",
   "execution_count": null,
   "id": "f2dc6f5a",
   "metadata": {
    "papermill": {
     "duration": 0.039723,
     "end_time": "2024-02-13T18:34:49.675365",
     "exception": false,
     "start_time": "2024-02-13T18:34:49.635642",
     "status": "completed"
    },
    "tags": []
   },
   "outputs": [],
   "source": []
  }
 ],
 "metadata": {
  "kaggle": {
   "accelerator": "none",
   "dataSources": [
    {
     "databundleVersionId": 26502,
     "sourceId": 3136,
     "sourceType": "competition"
    }
   ],
   "dockerImageVersionId": 30635,
   "isGpuEnabled": false,
   "isInternetEnabled": true,
   "language": "python",
   "sourceType": "notebook"
  },
  "kernelspec": {
   "display_name": "Python 3",
   "language": "python",
   "name": "python3"
  },
  "language_info": {
   "codemirror_mode": {
    "name": "ipython",
    "version": 3
   },
   "file_extension": ".py",
   "mimetype": "text/x-python",
   "name": "python",
   "nbconvert_exporter": "python",
   "pygments_lexer": "ipython3",
   "version": "3.10.12"
  },
  "papermill": {
   "default_parameters": {},
   "duration": 34.378859,
   "end_time": "2024-02-13T18:34:51.884491",
   "environment_variables": {},
   "exception": null,
   "input_path": "__notebook__.ipynb",
   "output_path": "__notebook__.ipynb",
   "parameters": {},
   "start_time": "2024-02-13T18:34:17.505632",
   "version": "2.4.0"
  }
 },
 "nbformat": 4,
 "nbformat_minor": 5
}
